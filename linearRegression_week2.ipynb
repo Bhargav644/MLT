{
  "nbformat": 4,
  "nbformat_minor": 0,
  "metadata": {
    "colab": {
      "name": "linearRegression_week2.ipynb",
      "provenance": [],
      "collapsed_sections": []
    },
    "kernelspec": {
      "name": "python3",
      "display_name": "Python 3"
    },
    "language_info": {
      "name": "python"
    }
  },
  "cells": [
    {
      "cell_type": "code",
      "execution_count": null,
      "metadata": {
        "id": "FrmPUNfmy7NN"
      },
      "outputs": [],
      "source": [
        "from IPython.display import display,Math,Latex  #for proper rendering of latex in colab\n",
        "import numpy as np\n",
        "\n",
        "# for generating plots\n",
        "import matplotlib.pyplot as plt\n",
        "import seaborn as sns\n",
        "\n",
        "%matplotlib inline"
      ]
    },
    {
      "cell_type": "markdown",
      "source": [
        "**Quick Recap:**\n",
        "\n",
        "\n",
        "1.   Training data conatains features and labels that id real numbers\n",
        "2.   Model or inference **y=Xw**\n",
        "\n"
      ],
      "metadata": {
        "id": "iLgPuHAI0CZF"
      }
    },
    {
      "cell_type": "markdown",
      "source": [
        "**C1:Creating Training data**"
      ],
      "metadata": {
        "id": "vZjMUmI80pLF"
      }
    },
    {
      "cell_type": "code",
      "source": [
        "w1=3\n",
        "w0=4\n",
        "n=100\n",
        "\n",
        "X=10*np.random.rand(n,)  #rand: will generate data of size n from uniform distribution (0,1] \n",
        "\n",
        "#Getting y=4 + 3*x + noise .whereas noise is generated randomly\n",
        "y=w0+w1*X+np.random.randn(n,)  #randn: will generate data of size n from normal distribution (-1,1)"
      ],
      "metadata": {
        "id": "EjTPpuAUz8Wc"
      },
      "execution_count": null,
      "outputs": []
    },
    {
      "cell_type": "code",
      "source": [
        "print(\"Shape of the training data feature matrix\", X.shape)\n",
        "print(\"Shape of the label vector\", y.shape)"
      ],
      "metadata": {
        "colab": {
          "base_uri": "https://localhost:8080/"
        },
        "id": "8d36B-pN1qae",
        "outputId": "8720e043-af24-40f1-c937-644c0eed0b3a"
      },
      "execution_count": null,
      "outputs": [
        {
          "output_type": "stream",
          "name": "stdout",
          "text": [
            "Shape of the training data feature matrix (100,)\n",
            "Shape of the label vector (100,)\n"
          ]
        }
      ]
    },
    {
      "cell_type": "markdown",
      "source": [
        "Let's divide data into test train sets"
      ],
      "metadata": {
        "id": "e9V6dK2z7ide"
      }
    },
    {
      "cell_type": "code",
      "source": [
        "from sklearn.model_selection import train_test_split\n",
        "\n",
        "X_train,X_test,y_train,y_test=train_test_split(X,y,test_size=0.20,random_state=42)"
      ],
      "metadata": {
        "id": "Yg9JILJM3TFt"
      },
      "execution_count": null,
      "outputs": []
    },
    {
      "cell_type": "code",
      "source": [
        "print(\"Shape of training feature matrix:\",X_train.shape)\n",
        "print(\"Shape of training label vector:\",y_train.shape)\n",
        "\n",
        "print(\"Shape of test feature matrix:\",X_test.shape)\n",
        "print(\"Shape of test label vector:\",y_test.shape)"
      ],
      "metadata": {
        "colab": {
          "base_uri": "https://localhost:8080/"
        },
        "id": "THIpZcls7mt9",
        "outputId": "24650162-7750-433a-d472-6c4c48b01bd4"
      },
      "execution_count": null,
      "outputs": [
        {
          "output_type": "stream",
          "name": "stdout",
          "text": [
            "Shape of training feature matrix: (80,)\n",
            "Shape of training label vector: (80,)\n",
            "Shape of test feature matrix: (20,)\n",
            "Shape of test label vector: (20,)\n"
          ]
        }
      ]
    },
    {
      "cell_type": "code",
      "source": [
        "X_train[:5]"
      ],
      "metadata": {
        "colab": {
          "base_uri": "https://localhost:8080/"
        },
        "id": "nU4MTElc-8IH",
        "outputId": "9e868402-7be2-4dc5-8395-07389959ed2f"
      },
      "execution_count": null,
      "outputs": [
        {
          "output_type": "execute_result",
          "data": {
            "text/plain": [
              "array([9.891412  , 1.67242768, 4.26493678, 7.16493278, 7.17989244])"
            ]
          },
          "metadata": {},
          "execution_count": 13
        }
      ]
    },
    {
      "cell_type": "code",
      "source": [
        "y_train[:5]"
      ],
      "metadata": {
        "colab": {
          "base_uri": "https://localhost:8080/"
        },
        "id": "ze507gzaBCO6",
        "outputId": "7c7add26-7830-46fd-e33f-2b15321b58b2"
      },
      "execution_count": null,
      "outputs": [
        {
          "output_type": "execute_result",
          "data": {
            "text/plain": [
              "array([35.50978858,  9.10309005, 17.15708349, 27.24776237, 26.8880575 ])"
            ]
          },
          "metadata": {},
          "execution_count": 14
        }
      ]
    },
    {
      "cell_type": "code",
      "source": [
        "sns.set_style(\"white\")\n",
        "f=plt.figure(figsize=(8,8))\n",
        "sns.set_context(\"notebook\",font_scale=1.5,rc={\"lines.linewidth\":2.5})\n",
        "\n",
        "plt.plot(X_train,y_train,\"b^\")\n",
        "plt.title(\"Data Points\")\n",
        "plt.grid(True)\n",
        "plt.xlabel(\"$x_1$\",fontsize=18)\n",
        "plt.ylabel(\"$y$\",rotation=0,fontsize=18)\n",
        "plt.axis([0,10,0,40])\n",
        "plt.show()"
      ],
      "metadata": {
        "colab": {
          "base_uri": "https://localhost:8080/",
          "height": 535
        },
        "id": "DBWWN7JNBGda",
        "outputId": "d4177339-cbdc-4aa8-ea13-6236645dbf1d"
      },
      "execution_count": null,
      "outputs": [
        {
          "output_type": "display_data",
          "data": {
            "text/plain": [
              "<Figure size 576x576 with 1 Axes>"
            ],
            "image/png": "[encoded data removed]"
          },
          "metadata": {}
        }
      ]
    },
    {
      "cell_type": "markdown",
      "source": [
        "**y=w0 + w1x1 ** <br>\n",
        "We add a special dummy feature x0 and set it to 1.We create a helper for that"
      ],
      "metadata": {
        "id": "r-pxkei_Dklg"
      }
    },
    {
      "cell_type": "code",
      "source": [
        "def add_dummy_feature(x):\n",
        "  ''' Adds a dummy to the dataset\n",
        "  Args:\n",
        "    x:Training dataset\n",
        "  Returns:\n",
        "    Training dataset with an addition of dummy feature.\n",
        "  '''\n",
        "  return np.column_stack((np.ones(x.shape[0]),x))"
      ],
      "metadata": {
        "id": "L_VAF8TwCj02"
      },
      "execution_count": null,
      "outputs": []
    },
    {
      "cell_type": "code",
      "source": [
        "import unittest\n",
        "\n",
        "class TestAddDummyFeature(unittest.TestCase):\n",
        "\n",
        "  def test_add_dummy_feature(self):\n",
        "\n",
        "    '''Testcase function for add_dummy_feature'''\n",
        "    train_matrix=np.array([[3,2,5],[9,4,7]])\n",
        "    train_matrix_with_dummy_feature=add_dummy_feature(train_matrix)\n",
        "\n",
        "    #test the shape either stops\n",
        "    self.assertEqual(train_matrix_with_dummy_feature.shape,(2,4))\n",
        "\n",
        "    np.testing.assert_array_equal(\n",
        "        train_matrix_with_dummy_feature,np.array([[1,3,2,5],[1,9,4,7]])\n",
        "    )\n",
        "\n",
        "unittest.main(argv=[''],defaultTest='TestAddDummyFeature',verbosity=2,exit=False)\n"
      ],
      "metadata": {
        "colab": {
          "base_uri": "https://localhost:8080/"
        },
        "id": "rjiMxcfVR1hb",
        "outputId": "d49a78b5-37f3-48f9-e939-30bc3c3c69cf"
      },
      "execution_count": null,
      "outputs": [
        {
          "output_type": "stream",
          "name": "stderr",
          "text": [
            "test_add_dummy_feature (__main__.TestAddDummyFeature)\n",
            "Testcase function for add_dummy_feature ... ok\n",
            "\n",
            "----------------------------------------------------------------------\n",
            "Ran 1 test in 0.002s\n",
            "\n",
            "OK\n"
          ]
        },
        {
          "output_type": "execute_result",
          "data": {
            "text/plain": [
              "<unittest.main.TestProgram at 0x7fd8c78b0090>"
            ]
          },
          "metadata": {},
          "execution_count": 17
        }
      ]
    },
    {
      "cell_type": "code",
      "source": [
        "add_dummy_feature(np.array([[3,2],[5,4]]))"
      ],
      "metadata": {
        "colab": {
          "base_uri": "https://localhost:8080/"
        },
        "id": "4cWZgn8qWPSY",
        "outputId": "4ececb5e-f74f-42aa-fbd0-cb21dbef1774"
      },
      "execution_count": null,
      "outputs": [
        {
          "output_type": "execute_result",
          "data": {
            "text/plain": [
              "array([[1., 3., 2.],\n",
              "       [1., 5., 4.]])"
            ]
          },
          "metadata": {},
          "execution_count": 18
        }
      ]
    },
    {
      "cell_type": "code",
      "source": [
        "print(\"Before adding the dummy feature:\\n\",X_train[:5])\n",
        "print('\\n')\n",
        "X_train_with_dummy=add_dummy_feature(X_train)\n",
        "print(\"After adding the dummy feature:\\n\",X_train_with_dummy[:5])"
      ],
      "metadata": {
        "colab": {
          "base_uri": "https://localhost:8080/"
        },
        "id": "-wZ51D6jYOVk",
        "outputId": "632a117b-906b-4853-ddd2-80c60fd9579c"
      },
      "execution_count": null,
      "outputs": [
        {
          "output_type": "stream",
          "name": "stdout",
          "text": [
            "Before adding the dummy feature:\n",
            " [9.891412   1.67242768 4.26493678 7.16493278 7.17989244]\n",
            "\n",
            "\n",
            "After adding the dummy feature:\n",
            " [[1.         9.891412  ]\n",
            " [1.         1.67242768]\n",
            " [1.         4.26493678]\n",
            " [1.         7.16493278]\n",
            " [1.         7.17989244]]\n"
          ]
        }
      ]
    },
    {
      "cell_type": "markdown",
      "source": [
        "**Model** <br>\n",
        "\n",
        "The general vectorized form is as follows: <br>\n",
        "**y**(nx1)=**X**(nx(m+1))**w**((m+1)x1)\n",
        "\n",
        "where <br>\n",
        "\n",
        "\n",
        "*   **n** is number of examples in dataset(train/test/validation)\n",
        "*   **m** is the number of features\n",
        "\n",
        "*   **X** is a feature matrix contain (m+1) features for n examples along rows\n",
        "*   **w** is a weight vector conatining (m+1) weights one for each feature\n",
        "\n",
        "*   **y** is a label vector containing labels for n examples with shape(n,)\n",
        "\n",
        "\n",
        "\n",
        "\n",
        "\n",
        "\n",
        "\n",
        "\n",
        "\n"
      ],
      "metadata": {
        "id": "um11Ytcbnduo"
      }
    },
    {
      "cell_type": "code",
      "source": [
        "def predict(X,w):\n",
        "  ''' Prediction of output for a given input\n",
        "\n",
        "      Args:\n",
        "        X: Features matrix of shape(n,m+1)\n",
        "        w: weight vector of shape(m+1,n)\n",
        "      Returns:\n",
        "        y: Predicted label vector of shape(n,)  \n",
        "  '''\n",
        "\n",
        "  assert X.shape[-1]==w.shape[0],\"X and w don't have compatible dimensions\"\n",
        "  return X@w"
      ],
      "metadata": {
        "id": "sqxI-b_0nhLM"
      },
      "execution_count": null,
      "outputs": []
    },
    {
      "cell_type": "code",
      "source": [
        "import unittest\n",
        "\n",
        "class TestPredict(unittest.TestCase):\n",
        "\n",
        "  def test_predict(self):\n",
        "\n",
        "    #setup\n",
        "    train_matrix=np.array([[1,3,2,5],[1,9,4,7]])\n",
        "    weight_vector=np.array([1,1,1,1])\n",
        "    expected_label_vector=np.array([11,21])\n",
        "\n",
        "    #call\n",
        "    predicted_label_vector=predict(train_matrix,weight_vector)\n",
        "\n",
        "    #asserts\n",
        "    self.assertEqual(predicted_label_vector.shape,(2,))\n",
        "\n",
        "    np.testing.assert_array_equal(expected_label_vector,predicted_label_vector)\n",
        "unittest.main(argv=[''],defaultTest='TestPredict',verbosity=2,exit=False)    "
      ],
      "metadata": {
        "colab": {
          "base_uri": "https://localhost:8080/"
        },
        "id": "RJ3jYoBxsZNn",
        "outputId": "7d3fb539-e014-42e0-86fd-b6fe5866c7ef"
      },
      "execution_count": null,
      "outputs": [
        {
          "output_type": "stream",
          "name": "stderr",
          "text": [
            "test_predict (__main__.TestPredict) ... ok\n",
            "\n",
            "----------------------------------------------------------------------\n",
            "Ran 1 test in 0.004s\n",
            "\n",
            "OK\n"
          ]
        },
        {
          "output_type": "execute_result",
          "data": {
            "text/plain": [
              "<unittest.main.TestProgram at 0x7fd8c7340f10>"
            ]
          },
          "metadata": {},
          "execution_count": 21
        }
      ]
    },
    {
      "cell_type": "markdown",
      "source": [
        "Dataset:n=100, m=1, [w0,w1]=[4,3]\n"
      ],
      "metadata": {
        "id": "HDKZ0D-wyZBB"
      }
    },
    {
      "cell_type": "code",
      "source": [
        "def generate(n):\n",
        "  w1=3\n",
        "  w0=4\n",
        "  X=10*np.random.rand(n,)\n",
        "  y=w0+w1*X+np.random.rand(n,)\n",
        "  return(X,y)"
      ],
      "metadata": {
        "id": "_DnPNDHSynLe"
      },
      "execution_count": null,
      "outputs": []
    },
    {
      "cell_type": "code",
      "source": [
        "def preprocess(X,y):\n",
        "  from sklearn.model_selection import train_test_split\n",
        "  X_train,X_test,y_train,y_test=train_test_split(X,y,test_size=0.2,random_state=42)\n",
        "  X_train=add_dummy_feature(X_train)\n",
        "  X_test=add_dummy_feature(X_test)\n",
        "  return(X_train,X_test,y_train,y_test)"
      ],
      "metadata": {
        "id": "sDv3qmSQyqyv"
      },
      "execution_count": null,
      "outputs": []
    },
    {
      "cell_type": "code",
      "source": [
        "X,y=generate(100)\n",
        "X_train,X_test,y_train,y_test=preprocess(X,y)"
      ],
      "metadata": {
        "id": "iPgax-h3yvAe"
      },
      "execution_count": null,
      "outputs": []
    },
    {
      "cell_type": "code",
      "source": [
        "w=np.random.rand(2,)"
      ],
      "metadata": {
        "id": "jcvIlHPN_GS6"
      },
      "execution_count": null,
      "outputs": []
    },
    {
      "cell_type": "code",
      "source": [
        "y_hat=predict(X_train,w)"
      ],
      "metadata": {
        "id": "G8GPooNRzbZI"
      },
      "execution_count": null,
      "outputs": []
    },
    {
      "cell_type": "code",
      "source": [
        "y_hat[:10]"
      ],
      "metadata": {
        "colab": {
          "base_uri": "https://localhost:8080/"
        },
        "id": "0uz4reSR_DPe",
        "outputId": "d454431a-26ef-46d2-d852-9f45b5c2fe1d"
      },
      "execution_count": null,
      "outputs": [
        {
          "output_type": "execute_result",
          "data": {
            "text/plain": [
              "array([1.57946365, 3.73887567, 1.81486357, 3.02585987, 5.17995337,\n",
              "       4.33769613, 1.17234153, 4.81585052, 3.62374906, 1.05326779])"
            ]
          },
          "metadata": {},
          "execution_count": 27
        }
      ]
    },
    {
      "cell_type": "code",
      "source": [
        "y_train[:10]"
      ],
      "metadata": {
        "colab": {
          "base_uri": "https://localhost:8080/"
        },
        "id": "PZq5DOXP_NVO",
        "outputId": "09766729-448a-4747-a729-004e9b8af5f6"
      },
      "execution_count": null,
      "outputs": [
        {
          "output_type": "execute_result",
          "data": {
            "text/plain": [
              "array([ 8.57670455, 21.84228983, 10.16790269, 17.9036616 , 30.76784502,\n",
              "       25.47363592,  5.78648263, 29.23582094, 21.66292755,  5.36725134])"
            ]
          },
          "metadata": {},
          "execution_count": 28
        }
      ]
    },
    {
      "cell_type": "code",
      "source": [
        "'''similar as predic but we doing it by non-vectorized wayS'''\n",
        "def non_vectorized_predict(X,w):\n",
        "  y=[]\n",
        "  for i in range(0,X.shape[0]):\n",
        "    y_hat_i=0\n",
        "    for j in range(0,X.shape[1]):\n",
        "      y_hat_i+=X[i][j]*w[j]\n",
        "    y.append(y_hat_i)\n",
        "  return np.array(y)"
      ],
      "metadata": {
        "id": "gVRgCi77_Pcj"
      },
      "execution_count": null,
      "outputs": []
    },
    {
      "cell_type": "code",
      "source": [
        "import time\n",
        "X,y=generate(1000000)\n",
        "X_train,X_test,y_train,y_test=preprocess(X,y)\n",
        "\n",
        "start_time=time.time()\n",
        "y_hat_vectorized=predict(X_train,w)\n",
        "end_time=time.time()\n",
        "\n",
        "print(\"Total time incurred in vectorized inference is: %0.6f s\"%(end_time-start_time))\n",
        "\n",
        "start_time=time.time()\n",
        "y_hat_non_vectorized=non_vectorized_predict(X_train,w)\n",
        "end_time=time.time()\n",
        "\n",
        "print(\"Total time incurred in non vectorized inference is: %0.6f s\"%(end_time-start_time))\n"
      ],
      "metadata": {
        "colab": {
          "base_uri": "https://localhost:8080/"
        },
        "id": "cx7AO-4BPebd",
        "outputId": "4471c4eb-c5f4-4ac3-af5d-06dd5169271b"
      },
      "execution_count": null,
      "outputs": [
        {
          "output_type": "stream",
          "name": "stdout",
          "text": [
            "Total time incurred in vectorized inference is: 0.002647 s\n",
            "Total time incurred in non vectorized inference is: 1.412890 s\n"
          ]
        }
      ]
    },
    {
      "cell_type": "markdown",
      "source": [
        "**Loss component** <br>\n",
        "\n",
        "Loss function: J(w)=1/2(Xw-y)'(Xw-y)"
      ],
      "metadata": {
        "id": "Qd5JviWOQ0Xl"
      }
    },
    {
      "cell_type": "code",
      "source": [
        "def loss(X,y,w):\n",
        "  '''\n",
        "   calculates the loss for a model based on known labels\n",
        "\n",
        "   Args:\n",
        "    X:Feature matrix for given inputs\n",
        "    y: Output label as predicted by the given model\n",
        "    w: weight vector\n",
        "\n",
        "  Returns:\n",
        "    Loss  \n",
        "  '''\n",
        "  e=predict(X,w)-y\n",
        "  return (1/2)*(np.transpose(e)@e)"
      ],
      "metadata": {
        "id": "8_WMuEM7Q4rt"
      },
      "execution_count": null,
      "outputs": []
    },
    {
      "cell_type": "code",
      "source": [
        "import unittest\n",
        "class TestLossFunction(unittest.TestCase):\n",
        "  def test_loss_function(self):\n",
        "\n",
        "    feature_matrix=np.array([[1,3,2,5],[1,9,4,7]])\n",
        "    weight_vector=np.array([1,1,1,1])\n",
        "    label_vector=np.array([6,11])\n",
        "    expected_loss=np.array([62.5])\n",
        "\n",
        "    #call\n",
        "    loss_value=loss(feature_matrix,label_vector,weight_vector)\n",
        "\n",
        "    self.assertEqual(loss_value.shape, ())\n",
        "\n",
        "    np.testing.assert_array_equal(expected_loss,loss_value)\n",
        "unittest.main(argv=[''],defaultTest='TestLossFunction',verbosity=2,exit=False)    \n"
      ],
      "metadata": {
        "colab": {
          "base_uri": "https://localhost:8080/"
        },
        "id": "yGD1t_sXR4PX",
        "outputId": "55f12828-4417-4a25-bef7-a7ff5b517548"
      },
      "execution_count": null,
      "outputs": [
        {
          "output_type": "stream",
          "name": "stderr",
          "text": [
            "test_loss_function (__main__.TestLossFunction) ... ok\n",
            "\n",
            "----------------------------------------------------------------------\n",
            "Ran 1 test in 0.002s\n",
            "\n",
            "OK\n"
          ]
        },
        {
          "output_type": "execute_result",
          "data": {
            "text/plain": [
              "<unittest.main.TestProgram at 0x7fd8c78b0810>"
            ]
          },
          "metadata": {},
          "execution_count": 32
        }
      ]
    },
    {
      "cell_type": "markdown",
      "source": [
        "Since we haven't trained our model,let's use a random weight vector to calculate loss for linear regression model with single feature on synthetic dataset"
      ],
      "metadata": {
        "id": "0G1gox5YUnF0"
      }
    },
    {
      "cell_type": "code",
      "source": [
        "w=np.random.rand(2,)\n",
        "w"
      ],
      "metadata": {
        "colab": {
          "base_uri": "https://localhost:8080/"
        },
        "id": "aaIc7WO9VVf-",
        "outputId": "7ccb533a-626c-4a1a-de38-f2b4d3256b01"
      },
      "execution_count": null,
      "outputs": [
        {
          "output_type": "execute_result",
          "data": {
            "text/plain": [
              "array([0.31218956, 0.30374157])"
            ]
          },
          "metadata": {},
          "execution_count": 82
        }
      ]
    },
    {
      "cell_type": "code",
      "source": [
        "def generate(n):\n",
        "  w1=3\n",
        "  w0=4\n",
        "  X=10*np.random.rand(n,)\n",
        "  y=w0+w1*X+np.random.rand(n,)\n",
        "  return(X,y)"
      ],
      "metadata": {
        "id": "TNtc9iQHpcte"
      },
      "execution_count": null,
      "outputs": []
    },
    {
      "cell_type": "code",
      "source": [
        "def preprocess(X,y):\n",
        "  from sklearn.model_selection import train_test_split\n",
        "  X_train,X_test,y_train,y_test=train_test_split(X,y,test_size=0.2,random_state=42)\n",
        "  # X_train=add_dummy_feature(X_train)\n",
        "  # X_test=add_dummy_feature(X_test)\n",
        "  return(X_train,X_test,y_train,y_test)"
      ],
      "metadata": {
        "id": "Ji9HOTF1niwg"
      },
      "execution_count": null,
      "outputs": []
    },
    {
      "cell_type": "code",
      "source": [
        "X,y=generate(100)\n",
        "X_train,X_test,y_train,y_test=preprocess(X,y)\n",
        "print(X_train.shape,\" \",y_train.shape)"
      ],
      "metadata": {
        "id": "_ndpvZHQVa6C",
        "colab": {
          "base_uri": "https://localhost:8080/"
        },
        "outputId": "1b7f1d47-0a07-4a8c-a78a-980411faa259"
      },
      "execution_count": null,
      "outputs": [
        {
          "output_type": "stream",
          "name": "stdout",
          "text": [
            "(80,)   (80,)\n"
          ]
        }
      ]
    },
    {
      "cell_type": "code",
      "source": [
        "def visualize_loss_for_single_feature_model(X,y,w):\n",
        "  sns.set_style('white')\n",
        "  f=plt.figure(figsize=(8,8))\n",
        "  sns.set_context(\"notebook\",font_scale=1.5, rc={\"lines.linewidth\": 2.5})\n",
        "  plt.scatter(X, y, color=\"g\")\n",
        "  y_pred = w[0] + w[1]*X\n",
        "  plt.plot(X,y_pred,color=\"b\")\n",
        "  plt.vlines(X, y_pred, y, color='r')\n",
        "  plt.title(\"Data Points\")\n",
        "  plt.grid(True)\n",
        "  plt.xlabel(\"$x_1$\", fontsize=18)\n",
        "  plt.ylabel(\"$y$\", rotation=0, fontsize=18)\n",
        "  plt.axis([0,10,0,40])\n",
        "  plt.show()\n",
        "\n"
      ],
      "metadata": {
        "id": "tFerv3BMVzRV"
      },
      "execution_count": null,
      "outputs": []
    },
    {
      "cell_type": "code",
      "source": [
        "visualize_loss_for_single_feature_model(X_train,y_train,w)"
      ],
      "metadata": {
        "colab": {
          "base_uri": "https://localhost:8080/",
          "height": 535
        },
        "id": "a5dfyEzikYYd",
        "outputId": "758abee3-d08a-4f57-94e5-dce15b82e69b"
      },
      "execution_count": null,
      "outputs": [
        {
          "output_type": "display_data",
          "data": {
            "text/plain": [
              "<Figure size 576x576 with 1 Axes>"
            ],
            "image/png": "[encoded data removed]"
          },
          "metadata": {}
        }
      ]
    },
    {
      "cell_type": "code",
      "source": [
        "visualize_loss_for_single_feature_model(X_train,y_train,np.array([4,3]))"
      ],
      "metadata": {
        "colab": {
          "base_uri": "https://localhost:8080/",
          "height": 535
        },
        "id": "Nu897e4Okgvd",
        "outputId": "05312514-0067-4f5d-9b60-310fa7ca8953"
      },
      "execution_count": null,
      "outputs": [
        {
          "output_type": "display_data",
          "data": {
            "text/plain": [
              "<Figure size 576x576 with 1 Axes>"
            ],
            "image/png": "[encoded data removed]"
          },
          "metadata": {}
        }
      ]
    },
    {
      "cell_type": "code",
      "source": [
        "def preprocess(X,y):\n",
        "  from sklearn.model_selection import train_test_split\n",
        "  X_train,X_test,y_train,y_test=train_test_split(X,y,test_size=0.2,random_state=42)\n",
        "  X_train=add_dummy_feature(X_train)\n",
        "  X_test=add_dummy_feature(X_test)\n",
        "  return(X_train,X_test,y_train,y_test)"
      ],
      "metadata": {
        "id": "eHzEraDz914P"
      },
      "execution_count": null,
      "outputs": []
    },
    {
      "cell_type": "markdown",
      "source": [
        "**Optimization**\n"
      ],
      "metadata": {
        "id": "zh4nDjZeoagO"
      }
    },
    {
      "cell_type": "code",
      "source": [
        "X,y=generate(100)\n",
        "X_train,X_test,y_train,y_test=preprocess(X,y)"
      ],
      "metadata": {
        "id": "invVh8oTtH4U"
      },
      "execution_count": null,
      "outputs": []
    },
    {
      "cell_type": "markdown",
      "source": [
        "There are two types of optimization techniques: <br> \n",
        "\n",
        "1. Normal equation (w=(X'X)^**(-1)**X') psudoinverse of feature matrix\n",
        "2. Gradient Descent"
      ],
      "metadata": {
        "id": "r3jppO4ltVeO"
      }
    },
    {
      "cell_type": "code",
      "source": [
        "def normal_equation(X,y):\n",
        "  return np.linalg.pinv(X) @ y"
      ],
      "metadata": {
        "id": "Q9JoqfJWteXh"
      },
      "execution_count": null,
      "outputs": []
    },
    {
      "cell_type": "code",
      "source": [
        "import unittest\n",
        "class TestNormalEquation(unittest.TestCase):\n",
        "\n",
        "  def test_normal_equation(self):\n",
        "\n",
        "    feature_matrix=X_train\n",
        "    label_vector=y_train\n",
        "    expected_weight_vector=np.array([4.,3.])\n",
        "\n",
        "    estimated_weight_vector=normal_equation(feature_matrix,label_vector)\n",
        "    self.assertEqual(estimated_weight_vector.shape,(2,))\n",
        "\n",
        "    np.testing.assert_array_almost_equal(\n",
        "    estimated_weight_vector,expected_weight_vector,decimal=0\n",
        "    )\n",
        "\n",
        "unittest.main(argv=[''],defaultTest='TestNormalEquation',verbosity=2,exit=False)\n"
      ],
      "metadata": {
        "colab": {
          "base_uri": "https://localhost:8080/"
        },
        "id": "LzMgrco2uZhM",
        "outputId": "f8fa378d-d5ec-43b5-ee36-ccd60d80b995"
      },
      "execution_count": null,
      "outputs": [
        {
          "output_type": "stream",
          "name": "stderr",
          "text": [
            "test_normal_equation (__main__.TestNormalEquation) ... ok\n",
            "\n",
            "----------------------------------------------------------------------\n",
            "Ran 1 test in 0.005s\n",
            "\n",
            "OK\n"
          ]
        },
        {
          "output_type": "execute_result",
          "data": {
            "text/plain": [
              "<unittest.main.TestProgram at 0x7fd8c42146d0>"
            ]
          },
          "metadata": {},
          "execution_count": 101
        }
      ]
    },
    {
      "cell_type": "markdown",
      "source": [
        "**Gradient Descent**\n",
        "Iterate untill conveergence:\n",
        "  \n",
        "\n",
        "1.   Calculate partial derivative of loss w.r.t weight vector\n",
        "2.   Calculate new values of weights\n",
        "3.   Update weights to new values simultaneously\n",
        "\n",
        "**Partial derivative of loss funtion**\n",
        "\n",
        "d/dw(J(w))=X'(Xw-y)\n",
        "\n",
        "\n",
        "\n"
      ],
      "metadata": {
        "id": "0Kxm8lWu-FIm"
      }
    },
    {
      "cell_type": "code",
      "source": [
        "def calculate_gradient(X,y,w):\n",
        "  '''\n",
        "  Args:\n",
        "    X:Features matrix for training data\n",
        "    y:Label vector for training data\n",
        "    w:Weight vector\n",
        "  '''\n",
        "  return np.transpose(X)@(predict(X,w)-y)"
      ],
      "metadata": {
        "id": "bqfoFCPYBw3U"
      },
      "execution_count": null,
      "outputs": []
    },
    {
      "cell_type": "code",
      "source": [
        "class TestCalculateGradient(unittest.TestCase):\n",
        "      def test_calculate_gradient(self):\n",
        "        feature_matrix=np.array([[1,3,2,5],[1,9,4,7]])\n",
        "        weight_vector=np.array([1,1,1,1])\n",
        "        label_vector=np.array([6,11])\n",
        "        expected_grad=np.array([15,105,50,95])\n",
        "\n",
        "        grad=calculate_gradient(feature_matrix,label_vector,weight_vector)\n",
        "\n",
        "        self.assertEqual(grad.shape,(4,))\n",
        "\n",
        "        np.testing.assert_array_almost_equal(expected_grad,grad,decimal=0)\n",
        "unittest.main(argv=[''],defaultTest=\"TestCalculateGradient\",verbosity=2,exit=False)        "
      ],
      "metadata": {
        "colab": {
          "base_uri": "https://localhost:8080/"
        },
        "id": "1NWx1Sy5Bw09",
        "outputId": "1fef4763-3aa3-4b8e-ab89-8923faa25509"
      },
      "execution_count": null,
      "outputs": [
        {
          "output_type": "stream",
          "name": "stderr",
          "text": [
            "test_calculate_gradient (__main__.TestCalculateGradient) ... ok\n",
            "\n",
            "----------------------------------------------------------------------\n",
            "Ran 1 test in 0.002s\n",
            "\n",
            "OK\n"
          ]
        },
        {
          "output_type": "execute_result",
          "data": {
            "text/plain": [
              "<unittest.main.TestProgram at 0x7fd8c4180290>"
            ]
          },
          "metadata": {},
          "execution_count": 103
        }
      ]
    },
    {
      "cell_type": "markdown",
      "source": [
        "**Weight updates**"
      ],
      "metadata": {
        "id": "eOEXg4jcE0x3"
      }
    },
    {
      "cell_type": "code",
      "source": [
        "def update_weights(w,grad,lr):\n",
        "\n",
        "  '''\n",
        "    Args:\n",
        "      w: weight vector\n",
        "      grad: gradient of loss w.r.t w\n",
        "      lr: learning rate\n",
        "    Return: updated weight\n",
        "\n",
        "\n",
        "  '''\n",
        "  return (w-lr*grad)"
      ],
      "metadata": {
        "id": "eXARAB6g6San"
      },
      "execution_count": null,
      "outputs": []
    },
    {
      "cell_type": "code",
      "source": [
        "class TestUpdateWeights(unittest.TestCase):\n",
        "\n",
        "  def test_update_weights(self):\n",
        "\n",
        "    weight_vector=np.array([1,1,1,1])\n",
        "    grad_vector=np.array([15,105,50,95])\n",
        "    lr=0.001\n",
        "    expected_w_new=np.array([0.985,0.895,0.95,0.905])\n",
        "\n",
        "    w_new=update_weights(weight_vector,grad_vector,lr)\n",
        "\n",
        "    self.assertEqual(expected_w_new.shape,(4,))\n",
        "\n",
        "    np.testing.assert_array_almost_equal(expected_w_new,w_new,decimal=1)\n",
        "unittest.main(argv=[''],defaultTest=\"TestUpdateWeights\",verbosity=2,exit=False)    "
      ],
      "metadata": {
        "colab": {
          "base_uri": "https://localhost:8080/"
        },
        "id": "Y-OBTBLTGnUu",
        "outputId": "09ffbe0f-afd0-4f62-9f45-add948faa2bc"
      },
      "execution_count": null,
      "outputs": [
        {
          "output_type": "stream",
          "name": "stderr",
          "text": [
            "test_update_weights (__main__.TestUpdateWeights) ... ok\n",
            "\n",
            "----------------------------------------------------------------------\n",
            "Ran 1 test in 0.004s\n",
            "\n",
            "OK\n"
          ]
        },
        {
          "output_type": "execute_result",
          "data": {
            "text/plain": [
              "<unittest.main.TestProgram at 0x7fd8c4180650>"
            ]
          },
          "metadata": {},
          "execution_count": 105
        }
      ]
    },
    {
      "cell_type": "code",
      "source": [
        "def gradient_descent(X:np.ndarray,y:np.ndarray,lr:float,num_epochs:int):\n",
        "\n",
        "  '''\n",
        "    Args:\n",
        "      X:feature matrix\n",
        "      y:label\n",
        "      lr:learning rate\n",
        "      num_epochs:Number of training steps\n",
        "\n",
        "    Return:\n",
        "      Weight vector:Final weight vector\n",
        "      Error vector accross different iterations\n",
        "      Weight vectors across diifferent iterations  \n",
        "  '''\n",
        "\n",
        "  w_all=[]  #all parameters across iterations\n",
        "  err_all=[] #all errors across iterations\n",
        "\n",
        "  w=np.zeros((X.shape[1]))\n",
        "\n",
        "  print()\n",
        "\n",
        "  for i in np.arange(0,num_epochs):\n",
        "    w_all.append(w)\n",
        "\n",
        "    err_all.append(loss(X,y,w))\n",
        "\n",
        "    dJdW=calculate_gradient(X,y,w)\n",
        "\n",
        "    if(i%100)==0:\n",
        "      print('Iteration #:%d,loss:%4.2f'%(i,err_all[-1]))\n",
        "\n",
        "    w=update_weights(w,dJdW,lr)\n",
        "  return w,err_all,w_all  #err_all used for plotting learning curves where as w_all for plotting trajectory of gradient descent\n",
        "\n"
      ],
      "metadata": {
        "id": "_ks8-HFoJBCK"
      },
      "execution_count": null,
      "outputs": []
    },
    {
      "cell_type": "code",
      "source": [
        "class TestGradientDescent(unittest.TestCase):\n",
        "\n",
        "  def test_gradient_descent(self):\n",
        "\n",
        "    feature_matrix=X_train\n",
        "    label_vector=y_train\n",
        "    expected_weights=np.array([4.,3.])\n",
        "\n",
        "    w,err_all,w_all=gradient_descent(feature_matrix,label_vector,lr=0.0001,num_epochs=2000)\n",
        "\n",
        "    self.assertEqual(w.shape,(2,))\n",
        "\n",
        "    np.testing.assert_array_almost_equal(expected_weights,w,decimal=0)\n",
        "unittest.main(argv=[''],defaultTest='TestGradientDescent',verbosity=2,exit=False)    \n",
        "                                     \n"
      ],
      "metadata": {
        "colab": {
          "base_uri": "https://localhost:8080/"
        },
        "id": "gy-tW_BlNh27",
        "outputId": "700f33ee-fbb4-4a84-9c2f-be6712c8d721"
      },
      "execution_count": null,
      "outputs": [
        {
          "output_type": "stream",
          "name": "stderr",
          "text": [
            "test_gradient_descent (__main__.TestGradientDescent) ... "
          ]
        },
        {
          "output_type": "stream",
          "name": "stdout",
          "text": [
            "\n",
            "Iteration #:0,loss:16145.08\n",
            "Iteration #:100,loss:109.84\n",
            "Iteration #:200,loss:74.35\n",
            "Iteration #:300,loss:50.66\n",
            "Iteration #:400,loss:34.86\n",
            "Iteration #:500,loss:24.32\n",
            "Iteration #:600,loss:17.28\n",
            "Iteration #:700,loss:12.58\n",
            "Iteration #:800,loss:9.45\n",
            "Iteration #:900,loss:7.36\n",
            "Iteration #:1000,loss:5.96\n",
            "Iteration #:1100,loss:5.03\n",
            "Iteration #:1200,loss:4.41\n",
            "Iteration #:1300,loss:4.00\n",
            "Iteration #:1400,loss:3.72\n",
            "Iteration #:1500,loss:3.54\n",
            "Iteration #:1600,loss:3.41\n",
            "Iteration #:1700,loss:3.33\n",
            "Iteration #:1800,loss:3.28\n",
            "Iteration #:1900,loss:3.24\n"
          ]
        },
        {
          "output_type": "stream",
          "name": "stderr",
          "text": [
            "ok\n",
            "\n",
            "----------------------------------------------------------------------\n",
            "Ran 1 test in 0.045s\n",
            "\n",
            "OK\n"
          ]
        },
        {
          "output_type": "execute_result",
          "data": {
            "text/plain": [
              "<unittest.main.TestProgram at 0x7fd8c41d6d50>"
            ]
          },
          "metadata": {},
          "execution_count": 108
        }
      ]
    },
    {
      "cell_type": "code",
      "source": [
        "def predict(X,w):\n",
        "  ''' Prediction of output for a given input\n",
        "\n",
        "      Args:\n",
        "        X: Features matrix of shape(n,m+1)\n",
        "        w: weight vector of shape(m+1,n)\n",
        "      Returns:\n",
        "        y: Predicted label vector of shape(n,)  \n",
        "  '''\n",
        "\n",
        "  assert X.shape[-1]==w.shape[0],\"X and w don't have compatible dimensions\"\n",
        "  return X@w"
      ],
      "metadata": {
        "id": "b4-b0yYdCx7s"
      },
      "execution_count": null,
      "outputs": []
    },
    {
      "cell_type": "code",
      "source": [
        "# w,err_all,w_all=gradient_descent(X_train,y_train,lr=0.0001,num_epochs=2000)\n",
        "X_b=np.c_[np.ones((X.shape[0],1)),X]\n",
        "X_new=np.array([[0],[10]])\n",
        "X_new_b=np.c_[np.ones((2,1)),X_new]\n",
        "\n",
        "for j in range(0,len(w_all)):\n",
        "  if j%10!=0: continue\n",
        "  y_hat=predict(X_new_b,w_all[j])\n",
        "  style=\"b-\" if j>0 else \"r--\"\n",
        "  plt.plot(X_new_b[:,1],y_hat,style)\n",
        "\n",
        "plt.plot(X_train[:,1],y_train,\"b.\")\n",
        "plt.xlabel(\"$x_1$\",fontsize=18)  \n",
        "plt.ylabel(\"$y$\",rotation=0,fontsize=18)  \n",
        "plt.title('Gradient Descent',fontsize=18)\n",
        "plt.axis([0,10,0,40])\n",
        "plt.show()  "
      ],
      "metadata": {
        "colab": {
          "base_uri": "https://localhost:8080/",
          "height": 318
        },
        "id": "MCCBovVBP5Cg",
        "outputId": "86f36d48-1262-491c-841c-505d8dfe2a5b"
      },
      "execution_count": null,
      "outputs": [
        {
          "output_type": "display_data",
          "data": {
            "text/plain": [
              "<Figure size 432x288 with 1 Axes>"
            ],
            "image/png": "[encoded data removed]"
          },
          "metadata": {}
        }
      ]
    },
    {
      "cell_type": "code",
      "source": [
        "def plot_learning_curves(err_all):\n",
        "  plt.plot(err_all)\n",
        "  plt.xlabel('iteration #')\n",
        "  plt.ylabel('Loss:$J(\\mathbf{w})$')"
      ],
      "metadata": {
        "id": "L7ljU0PAX0Od"
      },
      "execution_count": null,
      "outputs": []
    },
    {
      "cell_type": "code",
      "source": [
        "w,err_all,w_all=gradient_descent(X_train,y_train,lr=0.0001,num_epochs=2000)\n",
        "plot_learning_curves(err_all)"
      ],
      "metadata": {
        "colab": {
          "base_uri": "https://localhost:8080/",
          "height": 662
        },
        "id": "oEzqRaIGFjZf",
        "outputId": "b8e690b9-88ce-4b4b-f992-7f095b7b83b9"
      },
      "execution_count": null,
      "outputs": [
        {
          "output_type": "stream",
          "name": "stdout",
          "text": [
            "\n",
            "Iteration #:0,loss:16145.08\n",
            "Iteration #:100,loss:109.84\n",
            "Iteration #:200,loss:74.35\n",
            "Iteration #:300,loss:50.66\n",
            "Iteration #:400,loss:34.86\n",
            "Iteration #:500,loss:24.32\n",
            "Iteration #:600,loss:17.28\n",
            "Iteration #:700,loss:12.58\n",
            "Iteration #:800,loss:9.45\n",
            "Iteration #:900,loss:7.36\n",
            "Iteration #:1000,loss:5.96\n",
            "Iteration #:1100,loss:5.03\n",
            "Iteration #:1200,loss:4.41\n",
            "Iteration #:1300,loss:4.00\n",
            "Iteration #:1400,loss:3.72\n",
            "Iteration #:1500,loss:3.54\n",
            "Iteration #:1600,loss:3.41\n",
            "Iteration #:1700,loss:3.33\n",
            "Iteration #:1800,loss:3.28\n",
            "Iteration #:1900,loss:3.24\n"
          ]
        },
        {
          "output_type": "display_data",
          "data": {
            "text/plain": [
              "<Figure size 432x288 with 1 Axes>"
            ],
            "image/png": "[encoded data removed]"
          },
          "metadata": {}
        }
      ]
    },
    {
      "cell_type": "markdown",
      "source": [
        "**How learning rate can change the beahaviour of loss iteration cure**"
      ],
      "metadata": {
        "id": "tqoce_3aNUkq"
      }
    },
    {
      "cell_type": "code",
      "source": [
        "w,err_all,w_all=gradient_descent(X_train,y_train,lr=1e-6,num_epochs=2000)\n",
        "plot_learning_curves(err_all)\n",
        "plt.title('lr=1e-6')"
      ],
      "metadata": {
        "colab": {
          "base_uri": "https://localhost:8080/",
          "height": 700
        },
        "id": "ljWxZgc3FvLm",
        "outputId": "73b3f888-d5b8-4f06-9ad4-4e02e7146e01"
      },
      "execution_count": null,
      "outputs": [
        {
          "output_type": "stream",
          "name": "stdout",
          "text": [
            "\n",
            "Iteration #:0,loss:16145.08\n",
            "Iteration #:100,loss:10136.73\n",
            "Iteration #:200,loss:6386.70\n",
            "Iteration #:300,loss:4046.08\n",
            "Iteration #:400,loss:2585.06\n",
            "Iteration #:500,loss:1673.02\n",
            "Iteration #:600,loss:1103.57\n",
            "Iteration #:700,loss:747.95\n",
            "Iteration #:800,loss:525.78\n",
            "Iteration #:900,loss:386.88\n",
            "Iteration #:1000,loss:299.97\n",
            "Iteration #:1100,loss:245.49\n",
            "Iteration #:1200,loss:211.27\n",
            "Iteration #:1300,loss:189.68\n",
            "Iteration #:1400,loss:175.97\n",
            "Iteration #:1500,loss:167.19\n",
            "Iteration #:1600,loss:161.49\n",
            "Iteration #:1700,loss:157.70\n",
            "Iteration #:1800,loss:155.11\n",
            "Iteration #:1900,loss:153.27\n"
          ]
        },
        {
          "output_type": "execute_result",
          "data": {
            "text/plain": [
              "Text(0.5, 1.0, 'lr=1e-6')"
            ]
          },
          "metadata": {},
          "execution_count": 115
        },
        {
          "output_type": "display_data",
          "data": {
            "text/plain": [
              "<Figure size 432x288 with 1 Axes>"
            ],
            "image/png": "[encoded data removed]"
          },
          "metadata": {}
        }
      ]
    },
    {
      "cell_type": "markdown",
      "source": [
        "**At learning rate 0.1 the model is not making progres**"
      ],
      "metadata": {
        "id": "CTSKDVd9NDar"
      }
    },
    {
      "cell_type": "code",
      "source": [
        "w,err_all,w_all=gradient_descent(X_train,y_train,lr=0.1,num_epochs=2000)\n",
        "plot_learning_curves(err_all)\n",
        "plt.title('lr=0.1')"
      ],
      "metadata": {
        "colab": {
          "base_uri": "https://localhost:8080/",
          "height": 804
        },
        "id": "bjq3B3juM3bZ",
        "outputId": "e55cc61e-134c-4c99-fe76-590dd8fc92a9"
      },
      "execution_count": null,
      "outputs": [
        {
          "output_type": "stream",
          "name": "stdout",
          "text": [
            "\n",
            "Iteration #:0,loss:16145.08\n",
            "Iteration #:100,loss: inf\n",
            "Iteration #:200,loss: nan\n",
            "Iteration #:300,loss: nan\n",
            "Iteration #:400,loss: nan\n",
            "Iteration #:500,loss: nan\n",
            "Iteration #:600,loss: nan\n",
            "Iteration #:700,loss: nan\n",
            "Iteration #:800,loss: nan\n",
            "Iteration #:900,loss: nan\n",
            "Iteration #:1000,loss: nan\n",
            "Iteration #:1100,loss: nan\n",
            "Iteration #:1200,loss: nan\n",
            "Iteration #:1300,loss: nan\n",
            "Iteration #:1400,loss: nan\n",
            "Iteration #:1500,loss: nan\n",
            "Iteration #:1600,loss: nan\n",
            "Iteration #:1700,loss: nan\n",
            "Iteration #:1800,loss: nan\n",
            "Iteration #:1900,loss: nan\n"
          ]
        },
        {
          "output_type": "stream",
          "name": "stderr",
          "text": [
            "/usr/local/lib/python3.7/dist-packages/ipykernel_launcher.py:14: RuntimeWarning: overflow encountered in matmul\n",
            "  \n",
            "/usr/local/lib/python3.7/dist-packages/ipykernel_launcher.py:8: RuntimeWarning: overflow encountered in matmul\n",
            "  \n",
            "/usr/local/lib/python3.7/dist-packages/ipykernel_launcher.py:12: RuntimeWarning: invalid value encountered in subtract\n",
            "  if sys.path[0] == '':\n"
          ]
        },
        {
          "output_type": "execute_result",
          "data": {
            "text/plain": [
              "Text(0.5, 1.0, 'lr=0.1')"
            ]
          },
          "metadata": {},
          "execution_count": 116
        },
        {
          "output_type": "display_data",
          "data": {
            "text/plain": [
              "<Figure size 432x288 with 1 Axes>"
            ],
            "image/png": "[encoded data removed]"
          },
          "metadata": {}
        }
      ]
    },
    {
      "cell_type": "markdown",
      "source": [
        "**How no of iteration or epochs can change the beahaviour of loss iteration cure**"
      ],
      "metadata": {
        "id": "TwoQF48zNpuj"
      }
    },
    {
      "cell_type": "code",
      "source": [
        "w,err_all,w_all=gradient_descent(X_train,y_train,lr=1e-6,num_epochs=3000)\n",
        "plot_learning_curves(err_all)\n",
        "plt.title('lr=1e-6')"
      ],
      "metadata": {
        "colab": {
          "base_uri": "https://localhost:8080/",
          "height": 873
        },
        "id": "vruQf3wjNBQ1",
        "outputId": "59a87bfc-82f2-4a05-b967-643c45321887"
      },
      "execution_count": null,
      "outputs": [
        {
          "output_type": "stream",
          "name": "stdout",
          "text": [
            "\n",
            "Iteration #:0,loss:16145.08\n",
            "Iteration #:100,loss:10136.73\n",
            "Iteration #:200,loss:6386.70\n",
            "Iteration #:300,loss:4046.08\n",
            "Iteration #:400,loss:2585.06\n",
            "Iteration #:500,loss:1673.02\n",
            "Iteration #:600,loss:1103.57\n",
            "Iteration #:700,loss:747.95\n",
            "Iteration #:800,loss:525.78\n",
            "Iteration #:900,loss:386.88\n",
            "Iteration #:1000,loss:299.97\n",
            "Iteration #:1100,loss:245.49\n",
            "Iteration #:1200,loss:211.27\n",
            "Iteration #:1300,loss:189.68\n",
            "Iteration #:1400,loss:175.97\n",
            "Iteration #:1500,loss:167.19\n",
            "Iteration #:1600,loss:161.49\n",
            "Iteration #:1700,loss:157.70\n",
            "Iteration #:1800,loss:155.11\n",
            "Iteration #:1900,loss:153.27\n",
            "Iteration #:2000,loss:151.90\n",
            "Iteration #:2100,loss:150.82\n",
            "Iteration #:2200,loss:149.93\n",
            "Iteration #:2300,loss:149.15\n",
            "Iteration #:2400,loss:148.45\n",
            "Iteration #:2500,loss:147.79\n",
            "Iteration #:2600,loss:147.16\n",
            "Iteration #:2700,loss:146.55\n",
            "Iteration #:2800,loss:145.96\n",
            "Iteration #:2900,loss:145.37\n"
          ]
        },
        {
          "output_type": "execute_result",
          "data": {
            "text/plain": [
              "Text(0.5, 1.0, 'lr=1e-6')"
            ]
          },
          "metadata": {},
          "execution_count": 118
        },
        {
          "output_type": "display_data",
          "data": {
            "text/plain": [
              "<Figure size 432x288 with 1 Axes>"
            ],
            "image/png": "[encoded data removed]"
          },
          "metadata": {}
        }
      ]
    },
    {
      "cell_type": "code",
      "source": [
        "w,err_all,w_all=gradient_descent(X_train,y_train,lr=1e-6,num_epochs=1500)\n",
        "plot_learning_curves(err_all)\n",
        "plt.title('lr=1e-6')"
      ],
      "metadata": {
        "colab": {
          "base_uri": "https://localhost:8080/",
          "height": 613
        },
        "id": "5zaeOz4DNQH5",
        "outputId": "97b07de2-5708-4963-db79-5f0b472a88d2"
      },
      "execution_count": null,
      "outputs": [
        {
          "output_type": "stream",
          "name": "stdout",
          "text": [
            "\n",
            "Iteration #:0,loss:16145.08\n",
            "Iteration #:100,loss:10136.73\n",
            "Iteration #:200,loss:6386.70\n",
            "Iteration #:300,loss:4046.08\n",
            "Iteration #:400,loss:2585.06\n",
            "Iteration #:500,loss:1673.02\n",
            "Iteration #:600,loss:1103.57\n",
            "Iteration #:700,loss:747.95\n",
            "Iteration #:800,loss:525.78\n",
            "Iteration #:900,loss:386.88\n",
            "Iteration #:1000,loss:299.97\n",
            "Iteration #:1100,loss:245.49\n",
            "Iteration #:1200,loss:211.27\n",
            "Iteration #:1300,loss:189.68\n",
            "Iteration #:1400,loss:175.97\n"
          ]
        },
        {
          "output_type": "execute_result",
          "data": {
            "text/plain": [
              "Text(0.5, 1.0, 'lr=1e-6')"
            ]
          },
          "metadata": {},
          "execution_count": 119
        },
        {
          "output_type": "display_data",
          "data": {
            "text/plain": [
              "<Figure size 432x288 with 1 Axes>"
            ],
            "image/png": "[encoded data removed]"
          },
          "metadata": {}
        }
      ]
    },
    {
      "cell_type": "markdown",
      "source": [
        "<h2>Optimization and Evaluation</h2>"
      ],
      "metadata": {
        "id": "MlRpyJciN87a"
      }
    },
    {
      "cell_type": "code",
      "source": [
        "X,y=generate(100)\n",
        "X_train,X_test,y_train,y_test=preprocess(X,y)"
      ],
      "metadata": {
        "id": "b2Pjtoa1OJ55"
      },
      "execution_count": null,
      "outputs": []
    },
    {
      "cell_type": "markdown",
      "source": [
        "**<h2>MiniBatch Gradient Descent  (MBGD)</h2>**\n",
        "\n",
        "The key idea here is to perform weight updates by computing gradient on batches of small number of examples."
      ],
      "metadata": {
        "id": "qZwouoRxOcRj"
      }
    },
    {
      "cell_type": "code",
      "source": [
        "t0,t1=200,100000\n",
        "'''Learning schedule is to decrease the learning rate accordingly'''\n",
        "def learning_schedule(t):\n",
        "  return t0/(t+t1)"
      ],
      "metadata": {
        "id": "qMknxi_bOZpW"
      },
      "execution_count": null,
      "outputs": []
    },
    {
      "cell_type": "code",
      "source": [
        "def mini_batch_gd(X:np.ndarray,y:np.ndarray,num_iters:int,minibatch_size:int):\n",
        "  '''\n",
        "    Estimates parameters of linear regression model through gradient descent\n",
        "\n",
        "    Args:\n",
        "      X:Feature matrix for training rate\n",
        "      y:Label vector for training rate\n",
        "      num_iters:Number of iterations\n",
        "\n",
        "    Returns:\n",
        "        Weight vector:Final weight vector\n",
        "        Error vector across different iterations\n",
        "        weight vectors across different iterations   \n",
        "  '''\n",
        "  w_all=[]\n",
        "  err_all=[]\n",
        "\n",
        "  w=np.zeros((X.shape[1]))\n",
        "  t=0\n",
        "  \n",
        "  for epoch in range(num_iters):\n",
        "    shuffled_indices=np.random.permutation(X.shape[0])\n",
        "    X_shuffled=X[shuffled_indices]\n",
        "    y_shuffled=y[shuffled_indices]\n",
        "\n",
        "    for i in range(0,X.shape[0],minibatch_size):\n",
        "        t+=1\n",
        "        xi=X_shuffled[i:i+minibatch_size]\n",
        "        yi=y_shuffled[i:i+minibatch_size]\n",
        "        err_all.append(loss(xi,yi,w))\n",
        "\n",
        "        gradient=2/minibatch_size*calculate_gradient(xi,yi,w)\n",
        "        lr=learning_schedule(t)\n",
        "\n",
        "\n",
        "        w=update_weights(w,gradient,lr)\n",
        "        w_all.append(w)\n",
        "\n",
        "  return w,err_all,w_all       "
      ],
      "metadata": {
        "id": "DCEL5QpdPk52"
      },
      "execution_count": null,
      "outputs": []
    },
    {
      "cell_type": "code",
      "source": [
        "w,err_all,w_all=mini_batch_gd(X_train,y_train,20,8)\n",
        "plot_learning_curves(err_all)"
      ],
      "metadata": {
        "colab": {
          "base_uri": "https://localhost:8080/",
          "height": 298
        },
        "id": "A5eJeTQSSmI9",
        "outputId": "173f1743-8ef1-4386-a7ca-a689f8a1b943"
      },
      "execution_count": null,
      "outputs": [
        {
          "output_type": "display_data",
          "data": {
            "text/plain": [
              "<Figure size 432x288 with 1 Axes>"
            ],
            "image/png": "[encoded data removed]"
          },
          "metadata": {}
        }
      ]
    },
    {
      "cell_type": "markdown",
      "source": [
        "**<h2>Stochastic Gradient Descent  (SGD)</h2>**\n",
        "\n",
        "The key idea here is to perform weight updates by computing gradient on one example at a time.\n",
        "It is basically MBGD with number of example per batch=1"
      ],
      "metadata": {
        "id": "CwOl3w25TNxE"
      }
    },
    {
      "cell_type": "code",
      "source": [
        "def sgd(X:np.ndarray,y:np.ndarray,num_epochs:int):\n",
        "  '''\n",
        "    Estimates parameters of linear regression model through gradient descent\n",
        "\n",
        "    Args:\n",
        "      X:Feature matrix for training rate\n",
        "      y:Label vector for training rate\n",
        "      num_epochs:Number of iterations\n",
        "\n",
        "    Returns:\n",
        "        Weight vector:Final weight vector\n",
        "        Error vector across different iterations\n",
        "        weight vectors across different iterations   \n",
        "  '''\n",
        "  w_all=[]\n",
        "  err_all=[]\n",
        "\n",
        "  w=np.zeros((X.shape[1]))\n",
        "\n",
        "  for epoch in range(num_epochs):\n",
        "    for i in range(X.shape[0]):\n",
        "        random_index=np.random.randint(X.shape[0])\n",
        "        xi=X[random_index:random_index+1]\n",
        "        yi=y[random_index:random_index+1]\n",
        "        err_all.append(loss(xi,yi,w))\n",
        "\n",
        "        gradient=2*calculate_gradient(xi,yi,w)\n",
        "        lr=learning_schedule(epoch*X.shape[0]+i)\n",
        "\n",
        "\n",
        "        w=update_weights(w,gradient,lr)\n",
        "        w_all.append(w)\n",
        "\n",
        "  return w,err_all,w_all       "
      ],
      "metadata": {
        "id": "RCkQrz88S30n"
      },
      "execution_count": null,
      "outputs": []
    },
    {
      "cell_type": "code",
      "source": [
        "w,err_all,w_all=sgd(X_train,y_train,10)\n",
        "plot_learning_curves(err_all)"
      ],
      "metadata": {
        "colab": {
          "base_uri": "https://localhost:8080/",
          "height": 298
        },
        "id": "FsoZUTA0U2dX",
        "outputId": "c46fb028-fe31-41e8-88d9-dbdac72bb7b6"
      },
      "execution_count": null,
      "outputs": [
        {
          "output_type": "display_data",
          "data": {
            "text/plain": [
              "<Figure size 432x288 with 1 Axes>"
            ],
            "image/png": "[encoded data removed]"
          },
          "metadata": {}
        }
      ]
    },
    {
      "cell_type": "markdown",
      "source": [
        "<h2>Combining whole collab for linear regression model</h2>"
      ],
      "metadata": {
        "id": "wDIXmlIWVvOF"
      }
    },
    {
      "cell_type": "code",
      "source": [
        "class LinReg(object):\n",
        "    '''            I\n",
        "        Linear regression model\n",
        "        y=xew\n",
        "        X:Afeature matrix\n",
        "        w:weight vector\n",
        "        y:label vector\n",
        "    '''\n",
        "    def __init__(self):\n",
        "      self.t0=200\n",
        "      self.t1=100000\n",
        "    def predict(self,X:np.ndarray)->np.ndarray:\n",
        "      '''Prediction of output label foragiven input.\n",
        "      Args:\n",
        "        X:Feature matrix for given inputs.\n",
        "      Returns:\n",
        "        y:Output label vector as predicted by the given model.\n",
        "      '''  \n",
        "      y=X@self.w\n",
        "      return y\n",
        "    def loss(self,X:np.ndarray,y:np.ndarray)->float:\n",
        "      ''' Calculates loss foramodel based on known labels.\n",
        "          Args:\n",
        "            X:Feature matrix for given inputs.\n",
        "            y:Output label vector as predicted by the given model.\n",
        "          Returns:\n",
        "            Loss\n",
        "      '''\n",
        "      e=y-self.predict(X)\n",
        "      return (1/2)*(np.transpose(e)@e)\n",
        "    def rmse(self,X:np.ndarray,y:np.ndarray)->float:\n",
        "      ''' Calculates root mean squared error of prediction w.r.t. actual label.\n",
        "          Args:\n",
        "          X:Feature matrix for given inputs.\n",
        "          y:Output label vector as predicted by the given model.\n",
        "          Returns:\n",
        "          Loss\n",
        "      ''' \n",
        "      return np.sqrt((2/X.shape[0])*self.loss(X,y))\n",
        "    def fit(self,X:np.ndarray,y:np.ndarray)->np.ndarray:\n",
        "      ''' Estimates parameters of the linear regression model with normal equation.\n",
        "            Args:\n",
        "            X:Feature matrix for given inputs.\n",
        "            y:Output label vector as predicted by the given model.\n",
        "                  I\n",
        "            Returns:\n",
        "            Weight vector\n",
        "      '''\n",
        "      self.w=np.linalg.pinv(X)@y\n",
        "      return self.w\n",
        "    def calculate_gradient(self,X:np.ndarray,y:np.ndarray)->np.ndarray:\n",
        "      '''Calculates gradients of loss function w.r.t weight vector on training set.\n",
        "          Arguments:\n",
        "              X:Feature matrix for training data.\n",
        "              y:Label vector for training data.\n",
        "          Returns:\n",
        "              A vector of gradients.\n",
        "      '''\n",
        "      return np.transpose(X)@(self.predict(X)-y)\n",
        "    def update_weights(self,grad:np.ndarray,lr:float)->np.ndarray:\n",
        "      '''Updates the weights based on the gradient of loss function.\n",
        "        Weight updates are carried out with the following formula:\n",
        "            w_new:=w_old-ir*grad\n",
        "        Args:\n",
        "          2. grad:gradient of loss w.r.t.w\n",
        "          3. lr:learning rate\n",
        "        Returns:\n",
        "          Updated weight vector\n",
        "      '''\n",
        "      return(self.w-lr*grad)\n",
        "\n",
        "    def learning_schedule(self,t):\n",
        "      return self.t0/(t+self.tl)\n",
        "    def gd(self,X:np.ndarray,y:np.ndarray,num_epochs:int,lr:float)->np.ndarray:\n",
        "      '''Estimates parameters of linear regression model through gradient descent.\n",
        "          Args:\n",
        "                X:Feature matrix for training data.\n",
        "                y:Label vector for training data.\n",
        "                num_epochs:Number of training steps\n",
        "                1r:Learning rate\n",
        "          Returns:\n",
        "              Weight vector:Final weight vector\n",
        "      '''\n",
        "      self.w=np.zeros((X.shape[1]))\n",
        "      self.w_all=[]\n",
        "      self.err_all=[]\n",
        "      for i in np.arange(0,num_epochs):\n",
        "        dJdw=self.calculate_gradient(X,y)\n",
        "        self.w_all.append(self.w)\n",
        "        self.err_all.append(self.loss(X,y))\n",
        "        self.w=self.update_weights(dJdw,lr)\n",
        "      return self.w\n",
        "\n",
        "\n",
        "    def mbgd(self,X:np.ndarray,y:np.ndarray,num_epochs:int,batch_size:int)->np.ndarray:\n",
        "      ''' Estimates parameters of linear regression model through gradient descent.\n",
        "          Args:\n",
        "            X:Feature matrix for training data.\n",
        "              y:Label vector for training data.\n",
        "              num_epochs:Number of training steps\n",
        "              batch_size:Number of examples inabatch\n",
        "          Returns:\n",
        "            Weight vector:Final weight vector\n",
        "      '''\n",
        "      self.w=np.zeros((X.shape[1]))\n",
        "      self.w_all=[]\n",
        "      self.err_all=[]\n",
        "      mini_batch_id=0\n",
        "\n",
        "      for epoch in range(num_epochs):\n",
        "        shuffled_indices=np.random.permutation(X.shape[0])\n",
        "        X_shuffled=X[shuffled_indices]\n",
        "        y_shuffled=y[shuffled_indices]\n",
        "        for i in range(0,X.shape[0],batch_size):\n",
        "          mini_batch_id+=1\n",
        "          xi=X_shuffled[i:i+batch_size]\n",
        "          yi=y_shuffled[i:i+batch_size]\n",
        "\n",
        "          self.w_all.append(self.w)\n",
        "          self.err_all.append(self.loss(xi,yi))\n",
        "\n",
        "          dJdw=2/batch_size*self.calculate_gradient(xi,yi)\n",
        "          self.w=self.update_weights(dJdw,self.learning_schedule(mini_batch_id))\n",
        "      return self.w\n",
        "\n",
        "    def sgd(self,X:np.ndarray,y:np.ndarray,num_epochs:int)->np.ndarray:\n",
        "      '''Estimates parameters of linear regression model through gradient descent.\n",
        "          Args:\n",
        "            X:Feature matrix for training data.\n",
        "            y:Label vector for training data.\n",
        "              num_epochs:Number of training steps\n",
        "            batch_size:Number of examples inabatch\n",
        "          Returns:\n",
        "            Weight vector:Final weight vector\n",
        "      '''\n",
        "      #Parameter vector initialized to[0,0]\n",
        "      self.w=np.zeros((X.shape[1]))\n",
        "      self.w_all=[]\n",
        "      self.err_all=[]\n",
        "      for epoch in range(num_epochs):\n",
        "        for i in range(X.shape[0]):\n",
        "          random_index=np.random.randint(X.shape[0])\n",
        "          xi=X[random_index:random_index+1]\n",
        "          yi=y[random_index:random_index+1]\n",
        "          \n",
        "          self.w_all.append(self.w)\n",
        "          self.err_all.append(self.loss(xi,yi))\n",
        "        \n",
        "          gradients=2*self.calculate_gradient(xi,yi)\n",
        "          lr=self.learning_schedule(epoch*X.shape[0]+i)\n",
        "          \n",
        "          self.w=self.update_weights(gradients,lr)\n",
        "      return self.w   "
      ],
      "metadata": {
        "id": "e0GZQ60OKRLL"
      },
      "execution_count": null,
      "outputs": []
    },
    {
      "cell_type": "code",
      "source": [
        "#@title Default title text\n",
        "class LinReg(object):\n",
        "\n",
        "  '''\n",
        "\n",
        "  Linear regression model\n",
        "  ----------------------\n",
        "  y=X@w\n",
        "  X:A feature matrix\n",
        "  w:weight vector\n",
        "  y:label vector\n",
        "  '''\n",
        "\n",
        "  def __init__(self):\n",
        "    self.t0=200\n",
        "    self.t1=1e5\n",
        "\n",
        "  def predict(self,X:np.ndarray)->np.ndarray:\n",
        "    '''\n",
        "        Prediction of output for a given input\n",
        "\n",
        "        Args:\n",
        "          X:feature matrix for given inputs\n",
        "        Returns:\n",
        "          y:output label vector as predicted by given model  \n",
        "    '''\n",
        "    y=X@self.w\n",
        "    return y\n",
        "\n",
        "\n",
        "  def loss(self,X:np.ndarray,y:np.ndarray)->float:\n",
        "\n",
        "    '''\n",
        "        Args:\n",
        "          x:Feature matrix for given inputs\n",
        "          y:Outputs label vector as predicted by the given model\n",
        "    '''\n",
        "    e=y-self.predict(X)\n",
        "    return  (1/2)*(e.T@e)\n",
        "\n",
        "  def rmse (self,X:np.ndarray,y:np.ndarray)->float:\n",
        "    '''\n",
        "      Calculates root mean squared error\n",
        "\n",
        "      returns loss\n",
        "    '''\n",
        "    return np.sqrt((2/X.shape[0])*self.loss(X,y))\n",
        "\n",
        "\n",
        "  def fit(self,X:np.ndarray,y:np.ndarray)->np.ndarray:\n",
        "\n",
        "    '''\n",
        "    Estimates parameters of the linear regression model with normal equation.\n",
        "    returns weight vector\n",
        "    '''\n",
        "    self.w=np.linalg.pinv(X)@y_train\n",
        "    return self.w\n",
        "\n",
        "  def calculate_gradient(self,X:np.ndarray,y:np.ndarray)->np.ndarray:\n",
        "     return X.T@(self.predict(X)-y)\n",
        "\n",
        "  # def update_weights(self,grad:np.ndarray)    "
      ],
      "metadata": {
        "id": "RA6HO0CHVRbp",
        "cellView": "form"
      },
      "execution_count": null,
      "outputs": []
    },
    {
      "cell_type": "code",
      "source": [
        "lin_reg=LinReg()"
      ],
      "metadata": {
        "id": "NaZzDacOhlxv"
      },
      "execution_count": null,
      "outputs": []
    },
    {
      "cell_type": "markdown",
      "source": [
        "<h2>Linear regression on multiple features and single label"
      ],
      "metadata": {
        "id": "aWDf-ADDdh0U"
      }
    },
    {
      "cell_type": "code",
      "source": [
        "from sklearn.datasets import make_regression\n",
        "\n",
        "X,y,coef=make_regression(n_samples=100,n_features=10,n_informative=10,n_targets=1,coef=True,shuffle=True,noise=0.5,random_state=0)"
      ],
      "metadata": {
        "id": "RNPR7gmFdZsP"
      },
      "execution_count": null,
      "outputs": []
    },
    {
      "cell_type": "code",
      "source": [
        "print(\"Shape of feature matrix: \",X.shape)\n",
        "print(\"Shape of label vector: \",y.shape)\n",
        "print(\"Shape of coef vector\",coef)"
      ],
      "metadata": {
        "colab": {
          "base_uri": "https://localhost:8080/"
        },
        "id": "bGX8XIKEeAYj",
        "outputId": "80de1d8b-259e-45dc-9246-ffcf5a625f58"
      },
      "execution_count": null,
      "outputs": [
        {
          "output_type": "stream",
          "name": "stdout",
          "text": [
            "Shape of feature matrix:  (100, 10)\n",
            "Shape of label vector:  (100,)\n",
            "Shape of coef vector [77.47476142 34.21038752 70.05286228  1.42515152 82.19039084 96.65751069\n",
            " 88.30775973 61.47698861 99.42330832  3.71296039]\n"
          ]
        }
      ]
    },
    {
      "cell_type": "code",
      "source": [
        "X_train,X_test,y_train,y_test=preprocess(X,y)"
      ],
      "metadata": {
        "id": "gyM36WWmgcXu"
      },
      "execution_count": null,
      "outputs": []
    },
    {
      "cell_type": "code",
      "source": [
        "lin_reg.fit(X_train,y_train)\n",
        "print(\"Weight vector (normal equation)\",w)"
      ],
      "metadata": {
        "colab": {
          "base_uri": "https://localhost:8080/"
        },
        "id": "2huV9dcggozs",
        "outputId": "7e9bf13f-cf76-411e-fd6f-d15e9a6a603e"
      },
      "execution_count": null,
      "outputs": [
        {
          "output_type": "stream",
          "name": "stdout",
          "text": [
            "Weight vector (normal equation) [-1.57412102e-02  7.74718967e+01  3.42054594e+01  7.01565870e+01\n",
            "  1.41977159e+00  8.21863776e+01  9.67286684e+01  8.84628292e+01\n",
            "  6.13325399e+01  9.93672696e+01  3.64670572e+00]\n"
          ]
        }
      ]
    },
    {
      "cell_type": "code",
      "source": [
        "np.testing.assert_almost_equal(coef,lin_reg.w[1:],decimal=0)"
      ],
      "metadata": {
        "id": "5637nw6ag607"
      },
      "execution_count": null,
      "outputs": []
    },
    {
      "cell_type": "code",
      "source": [
        ""
      ],
      "metadata": {
        "id": "7TmDdfcfhQNN"
      },
      "execution_count": null,
      "outputs": []
    }
  ]
}