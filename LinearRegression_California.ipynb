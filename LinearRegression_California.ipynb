{
  "nbformat": 4,
  "nbformat_minor": 0,
  "metadata": {
    "colab": {
      "name": "LinearRegression_California.ipynb",
      "provenance": [],
      "collapsed_sections": []
    },
    "kernelspec": {
      "name": "python3",
      "display_name": "Python 3"
    },
    "language_info": {
      "name": "python"
    }
  },
  "cells": [
    {
      "cell_type": "markdown",
      "source": [
        "##Linear Regreesion for house price prediction\n",
        "\n",
        "What we will do:\n",
        "1. Linear regression(with normal equation and iterative optimization)\n",
        "2. Polynomial regression\n",
        "3. Regularized regression models-ridge and lasso"
      ],
      "metadata": {
        "id": "0N_P4sN0Afyd"
      }
    },
    {
      "cell_type": "code",
      "execution_count": null,
      "metadata": {
        "id": "eRKaZ1YcASAY"
      },
      "outputs": [],
      "source": [
        "import numpy as np\n",
        "import pandas as pd\n",
        "import matplotlib.pyplot as plt\n",
        "import seaborn as sns\n",
        "\n",
        "from scipy.stats import loguniform\n",
        "from scipy.stats import uniform\n",
        "\n",
        "from sklearn.datasets import fetch_california_housing\n",
        "from sklearn.dummy import DummyRegressor\n",
        "from sklearn.linear_model import LinearRegression\n",
        "from sklearn.linear_model import Lasso\n",
        "from sklearn.linear_model import LassoCV\n",
        "from sklearn.linear_model import RidgeCV\n",
        "from sklearn.linear_model import Ridge\n",
        "from sklearn.linear_model import SGDRegressor\n",
        "\n",
        "\n",
        "from sklearn.metrics import mean_squared_error\n",
        "from sklearn.metrics import mean_absolute_error\n",
        "from sklearn.metrics import mean_absolute_percentage_error\n",
        "\n",
        "from sklearn.model_selection import cross_validate\n",
        "from sklearn.model_selection import cross_val_score\n",
        "from sklearn.model_selection import train_test_split\n",
        "from sklearn.model_selection import ShuffleSplit\n",
        "from sklearn.model_selection import validation_curve\n",
        "from sklearn.model_selection import GridSearchCV\n",
        "from sklearn.model_selection import RandomizedSearchCV\n",
        "\n",
        "from sklearn.preprocessing import PolynomialFeatures\n",
        "from sklearn.preprocessing import StandardScaler\n",
        "\n",
        "from sklearn.pipeline import Pipeline\n"
      ]
    },
    {
      "cell_type": "markdown",
      "source": [
        "##Common set up"
      ],
      "metadata": {
        "id": "-O5vRnMjXH4_"
      }
    },
    {
      "cell_type": "code",
      "source": [
        "np.random.seed(306)"
      ],
      "metadata": {
        "id": "YbYrMfEoWjVB"
      },
      "execution_count": null,
      "outputs": []
    },
    {
      "cell_type": "markdown",
      "source": [
        "Let's use `ShuffleSplit` as cv with 10splits and 20% examples set aside as test examples"
      ],
      "metadata": {
        "id": "1ukOTsufXQfu"
      }
    },
    {
      "cell_type": "code",
      "source": [
        "cv=ShuffleSplit(n_splits=10,test_size=0.2,random_state=42)"
      ],
      "metadata": {
        "id": "t5I8KbjtXNup"
      },
      "execution_count": null,
      "outputs": []
    },
    {
      "cell_type": "markdown",
      "source": [
        "##Data Loading and splitting\n",
        "We will load the data and split it into three parts-train,dev and test .Train+Dev will be used for cross validation and test will be used for everything and trained models"
      ],
      "metadata": {
        "id": "TnY7jLdmXmNN"
      }
    },
    {
      "cell_type": "code",
      "source": [
        "#fetch dataset\n",
        "features,labels=fetch_california_housing(as_frame=True,return_X_y=True)\n",
        "#train-test split\n",
        "com_train_features,test_features,com_train_labels,test_labels=train_test_split(features,labels,random_state=42)\n",
        "\n",
        "#train-->train+dev split\n",
        "train_features,dev_features,train_labels,dev_labels=train_test_split(com_train_features,com_train_labels,random_state=42)"
      ],
      "metadata": {
        "id": "F3vlYhrMvZCO"
      },
      "execution_count": null,
      "outputs": []
    },
    {
      "cell_type": "markdown",
      "source": [
        "##Linear regression with normal equation"
      ],
      "metadata": {
        "id": "VOuDLBoOwTBn"
      }
    },
    {
      "cell_type": "code",
      "source": [
        "##linear regression will use normal equation here\n",
        "lin_reg_pipeline=Pipeline([(\"feature_scaling\",StandardScaler()),\n",
        "                           (\"lin_reg\",LinearRegression())])\n",
        "\n",
        "lin_reg_cv_results=cross_validate(lin_reg_pipeline,\n",
        "                                  com_train_features,\n",
        "                                  com_train_labels,\n",
        "                                  cv=cv,\n",
        "                                  scoring=\"neg_mean_absolute_error\",\n",
        "                                  return_train_score=True,\n",
        "                                  return_estimator=True)\n",
        "lin_reg_train_error=-1*lin_reg_cv_results['train_score']\n",
        "lin_reg_test_error=-1*lin_reg_cv_results['test_score']\n",
        "\n",
        "print(f\"Mean absolute error of linear regression model on the train set:\\n\"\n",
        "      f\"{lin_reg_train_error.mean():.3f}+/-{lin_reg_train_error.std():.3f}\")\n",
        "print(f\"Mean absolute error of linear regression model on the test set:\\n\"\n",
        "      f\"{lin_reg_test_error.mean():.3f}+/-{lin_reg_train_error.std():.3f}\")"
      ],
      "metadata": {
        "colab": {
          "base_uri": "https://localhost:8080/"
        },
        "id": "2UB8zX0mXkyx",
        "outputId": "fd57296e-6528-4f5e-b971-923550e6e832"
      },
      "execution_count": null,
      "outputs": [
        {
          "output_type": "stream",
          "name": "stdout",
          "text": [
            "Mean absolute error of linear regression model on the train set:\n",
            "0.530+/-0.002\n",
            "Mean absolute error of linear regression model on the test set:\n",
            "0.527+/-0.002\n"
          ]
        }
      ]
    },
    {
      "cell_type": "markdown",
      "source": [
        "##Linear regression with SGD"
      ],
      "metadata": {
        "id": "Q1gN9r3-zX1P"
      }
    },
    {
      "cell_type": "code",
      "source": [
        "sgd_reg_pipeline=Pipeline([(\"feature_scaling\",StandardScaler()),\n",
        "                           (\"sgd_reg\",SGDRegressor(\n",
        "                               max_iter=np.ceil(\n",
        "                                   1e6/com_train_features.shape[0]),\n",
        "                               early_stopping=True,\n",
        "                               eta0=1e-4,\n",
        "                               learning_rate='constant',\n",
        "                               tol=1e-5,\n",
        "                               validation_fraction=0.1,\n",
        "                               n_iter_no_change=5,\n",
        "                               average=10,\n",
        "                               random_state=42))])\n",
        "\n",
        "sgd_reg_cv_results=cross_validate(sgd_reg_pipeline,\n",
        "                                  com_train_features,\n",
        "                                  com_train_labels,\n",
        "                                  cv=cv,\n",
        "                                  scoring=\"neg_mean_absolute_error\",\n",
        "                                  return_train_score=True,\n",
        "                                  return_estimator=True)\n",
        "\n",
        "sgd_train_error=-1*sgd_reg_cv_results['train_score']\n",
        "sgd_test_error=+1*sgd_reg_cv_results['test_score']\n",
        "\n",
        "print(f\"Mean absolute error of linear regression model on the train set:\\n\"\n",
        "      f\"{sgd_train_error.mean():.3f}+/-{sgd_train_error.std():.3f}\")\n",
        "print(f\"Mean absolute error of linear regression model on the test set:\\n\"\n",
        "      f\"{sgd_test_error.mean():.3f}+/-{sgd_train_error.std():.3f}\")"
      ],
      "metadata": {
        "colab": {
          "base_uri": "https://localhost:8080/"
        },
        "id": "Hc7ZulBux8S7",
        "outputId": "da1bdda7-cc59-45dd-b0d8-dd496deb6d91"
      },
      "execution_count": null,
      "outputs": [
        {
          "output_type": "stream",
          "name": "stdout",
          "text": [
            "Mean absolute error of linear regression model on the train set:\n",
            "0.564+/-0.023\n",
            "Mean absolute error of linear regression model on the test set:\n",
            "-0.561+/-0.023\n"
          ]
        }
      ]
    },
    {
      "cell_type": "markdown",
      "source": [
        "##Polynomial regression"
      ],
      "metadata": {
        "id": "lV83UeFh1pOs"
      }
    },
    {
      "cell_type": "code",
      "source": [
        "poly_reg_pipeline=Pipeline([(\"poly\",PolynomialFeatures(degree=2)),\n",
        "                           (\"feature_scaling\",StandardScaler()),\n",
        "                           (\"lin_reg\",LinearRegression())])\n",
        "\n",
        "poly_reg_cv_results=cross_validate(poly_reg_pipeline,\n",
        "                                  com_train_features,\n",
        "                                  com_train_labels,\n",
        "                                  cv=cv,\n",
        "                                  scoring=\"neg_mean_absolute_error\",\n",
        "                                  return_train_score=True,\n",
        "                                  return_estimator=True)\n",
        "poly_reg_train_error=-1*poly_reg_cv_results['train_score']\n",
        "poly_reg_test_error=-1*poly_reg_cv_results['test_score']\n",
        "\n",
        "print(f\"Mean absolute error of polynomial regression model on the train set:\\n\"\n",
        "      f\"{poly_reg_train_error.mean():.3f}+/-{poly_reg_train_error.std():.3f}\")\n",
        "print(f\"Mean absolute error of polynomial regression model on the test set:\\n\"\n",
        "      f\"{poly_reg_test_error.mean():.3f}+/-{poly_reg_train_error.std():.3f}\")"
      ],
      "metadata": {
        "colab": {
          "base_uri": "https://localhost:8080/"
        },
        "id": "Mo2RV2UM1ltH",
        "outputId": "fa7902f0-7aae-4d7d-f6b2-a1da9a7bbfd5"
      },
      "execution_count": null,
      "outputs": [
        {
          "output_type": "stream",
          "name": "stdout",
          "text": [
            "Mean absolute error of polynomial regression model on the train set:\n",
            "0.461+/-0.003\n",
            "Mean absolute error of polynomial regression model on the test set:\n",
            "0.485+/-0.003\n"
          ]
        }
      ]
    },
    {
      "cell_type": "markdown",
      "source": [
        "Instead of using all polynomial feature we use only interaction feature terms in polynomial model and train the lineat regression model."
      ],
      "metadata": {
        "id": "11TmMncx2ovj"
      }
    },
    {
      "cell_type": "code",
      "source": [
        "poly_reg_pipeline=Pipeline([(\"poly\",PolynomialFeatures(degree=2,interaction_only=True)),\n",
        "                           (\"feature_scaling\",StandardScaler()),\n",
        "                           (\"lin_reg\",LinearRegression())])\n",
        "\n",
        "poly_reg_cv_results=cross_validate(poly_reg_pipeline,\n",
        "                                  com_train_features,\n",
        "                                  com_train_labels,\n",
        "                                  cv=cv,\n",
        "                                  scoring=\"neg_mean_absolute_error\",\n",
        "                                  return_train_score=True,\n",
        "                                  return_estimator=True)\n",
        "poly_reg_train_error=-1*poly_reg_cv_results['train_score']\n",
        "poly_reg_test_error=-1*poly_reg_cv_results['test_score']\n",
        "\n",
        "print(f\"Mean absolute error of polynomial regression model on the train set:\\n\"\n",
        "      f\"{poly_reg_train_error.mean():.3f}+/-{poly_reg_train_error.std():.3f}\")\n",
        "print(f\"Mean absolute error of polynomial regression model on the test set:\\n\"\n",
        "      f\"{poly_reg_test_error.mean():.3f}+/-{poly_reg_train_error.std():.3f}\")"
      ],
      "metadata": {
        "colab": {
          "base_uri": "https://localhost:8080/"
        },
        "id": "6WmiYaWu2l9F",
        "outputId": "c9bed09a-2c3e-4017-e182-be00a86e9090"
      },
      "execution_count": null,
      "outputs": [
        {
          "output_type": "stream",
          "name": "stdout",
          "text": [
            "Mean absolute error of polynomial regression model on the train set:\n",
            "0.478+/-0.003\n",
            "Mean absolute error of polynomial regression model on the test set:\n",
            "0.497+/-0.003\n"
          ]
        }
      ]
    },
    {
      "cell_type": "markdown",
      "source": [
        "Figuring out which degree suited best for the regression probelm"
      ],
      "metadata": {
        "id": "VrDJf-Vm3BSk"
      }
    },
    {
      "cell_type": "code",
      "source": [
        "degree=[1,2,3,4,5]\n",
        "train_scores,test_scores=validation_curve(\n",
        "    poly_reg_pipeline,com_train_features,com_train_labels,param_name=\"poly__degree\",\n",
        "    param_range=degree,cv=cv,scoring=\"neg_mean_absolute_error\",\n",
        "    n_jobs=2)\n",
        "\n",
        "train_errors,test_errors=-train_scores,-test_scores\n",
        "plt.plot(degree,train_errors.mean(axis=1),'b-x',label=\"Training error\")\n",
        "plt.plot(degree,test_errors.mean(axis=1),'r-x',label=\"Test error\")\n",
        "plt.legend()\n",
        "\n",
        "plt.xlabel(\"degree\")\n",
        "plt.ylabel(\"Mean absolute error (k$)\")\n",
        "_=plt.title(\"Validation curve for polynomial regression\")"
      ],
      "metadata": {
        "colab": {
          "base_uri": "https://localhost:8080/",
          "height": 295
        },
        "id": "wqWJnGA-2Rs_",
        "outputId": "5046eb18-116f-4976-bac1-c310ea1307cb"
      },
      "execution_count": null,
      "outputs": [
        {
          "output_type": "display_data",
          "data": {
            "text/plain": [
              "<Figure size 432x288 with 1 Axes>"
            ],
            "image/png": "[encoded data removed]"
          },
          "metadata": {
            "needs_background": "light"
          }
        }
      ]
    },
    {
      "cell_type": "markdown",
      "source": [
        "##Ridge Regression\n",
        "\n",
        "The polynomial models have a tendency to overfit-if we use higher order polynomial features.We will use Ridge regression-which penalize for excessive model complexity int the polynomial regression by adding a regularization term."
      ],
      "metadata": {
        "id": "rqC0EtMDBEov"
      }
    },
    {
      "cell_type": "code",
      "source": [
        "#alpha is regularization rate\n",
        "ridge_reg_pipeline=Pipeline([(\"poly\",PolynomialFeatures(degree=2)),\n",
        "                           (\"feature_scaling\",StandardScaler()),\n",
        "                           (\"ridge\",Ridge(alpha=0.5))])\n",
        "\n",
        "redge_reg_cv_results=cross_validate(ridge_reg_pipeline,\n",
        "                                  com_train_features,\n",
        "                                  com_train_labels,\n",
        "                                  cv=cv,\n",
        "                                  scoring=\"neg_mean_absolute_error\",\n",
        "                                  return_train_score=True,\n",
        "                                  return_estimator=True)\n",
        "redge_reg_train_error=-1*redge_reg_cv_results['train_score']\n",
        "redge_reg_test_error=-1*redge_reg_cv_results['test_score']\n",
        "\n",
        "print(f\"Mean absolute error of ridge regression model on the train set:\\n\"\n",
        "      f\"{redge_reg_train_error.mean():.3f}+/-{redge_reg_train_error.std():.3f}\")\n",
        "print(f\"Mean absolute error of ridge regression model on the test set:\\n\"\n",
        "      f\"{redge_reg_test_error.mean():.3f}+/-{redge_reg_train_error.std():.3f}\")"
      ],
      "metadata": {
        "colab": {
          "base_uri": "https://localhost:8080/"
        },
        "id": "b2mmkqUE8mrc",
        "outputId": "81384b76-bd41-4109-ed08-de86f7ae53cf"
      },
      "execution_count": null,
      "outputs": [
        {
          "output_type": "stream",
          "name": "stdout",
          "text": [
            "Mean absolute error of ridge regression model on the train set:\n",
            "0.481+/-0.003\n",
            "Mean absolute error of ridge regression model on the test set:\n",
            "0.487+/-0.003\n"
          ]
        }
      ]
    },
    {
      "cell_type": "markdown",
      "source": [
        "##HPT(hyper tuning of parameters) for ridge regularization rate"
      ],
      "metadata": {
        "id": "s1JOEIWECDLc"
      }
    },
    {
      "cell_type": "code",
      "source": [
        "alpha_list=np.logspace(-4,0,num=20)\n",
        "ridge_reg_pipeline=Pipeline([(\"poly\",PolynomialFeatures(degree=2)),\n",
        "                           (\"feature_scaling\",StandardScaler()),\n",
        "                           (\"ridge_cv\",RidgeCV(alphas=alpha_list,\n",
        "                                               cv=cv,\n",
        "                                               scoring=\"neg_mean_absolute_error\"))])\n",
        "ridge_reg_cv_results=ridge_reg_pipeline.fit(com_train_features,com_train_labels)"
      ],
      "metadata": {
        "id": "_7uDM0_1B2QH"
      },
      "execution_count": null,
      "outputs": []
    },
    {
      "cell_type": "code",
      "source": [
        "print(\"The score with the best alpha is:\",\n",
        "      f\"{ridge_reg_cv_results[-1].best_score_:.3f}\")\n",
        "print(\"The error with the best alpha is:\",\n",
        "      f\"{-ridge_reg_cv_results[-1].best_score_:.3f}\")"
      ],
      "metadata": {
        "colab": {
          "base_uri": "https://localhost:8080/"
        },
        "id": "cssO2MhvCutz",
        "outputId": "9e6e9ea4-728c-411e-9d83-049d4dc02b52"
      },
      "execution_count": null,
      "outputs": [
        {
          "output_type": "stream",
          "name": "stdout",
          "text": [
            "The score with the best alpha is: -0.473\n",
            "The error with the best alpha is: 0.473\n"
          ]
        }
      ]
    },
    {
      "cell_type": "code",
      "source": [
        "print(\"The error with the best alpha is:\",-ridge_reg_cv_results[-1].alpha_)"
      ],
      "metadata": {
        "colab": {
          "base_uri": "https://localhost:8080/"
        },
        "id": "l68LiIMLDMGd",
        "outputId": "eb6db727-737d-4603-e641-a176585d8292"
      },
      "execution_count": null,
      "outputs": [
        {
          "output_type": "stream",
          "name": "stdout",
          "text": [
            "The error with the best alpha is: -0.007847599703514606\n"
          ]
        }
      ]
    },
    {
      "cell_type": "markdown",
      "source": [
        "##Do RIdge with cross validation yourself"
      ],
      "metadata": {
        "id": "Jnl8uLDrEQ--"
      }
    },
    {
      "cell_type": "markdown",
      "source": [
        "##Ridge HTP with `GridSearchCV`"
      ],
      "metadata": {
        "id": "I_bBxGG1EJF_"
      }
    },
    {
      "cell_type": "code",
      "source": [
        "ridge_grid_pipeline=Pipeline([(\"poly\",PolynomialFeatures(degree=2)),\n",
        "                           (\"feature_scaling\",StandardScaler()),\n",
        "                           (\"ridge\",Ridge())])\n",
        "\n",
        "param_grid={'poly__degree':(1,2,3),\n",
        "            'ridge__alpha':np.logspace(-4,0,num=20)}\n",
        "ridge_grid_search=GridSearchCV(ridge_grid_pipeline,\n",
        "                               param_grid=param_grid,\n",
        "                               n_jobs=2,\n",
        "                               cv=cv,\n",
        "                               scoring=\"neg_mean_absolute_error\",\n",
        "                               return_train_score=True)\n",
        "ridge_grid_search.fit(com_train_features,com_train_labels)"
      ],
      "metadata": {
        "colab": {
          "base_uri": "https://localhost:8080/"
        },
        "id": "fludbyLCDTNZ",
        "outputId": "75f7cbcc-9576-46c0-b9e4-b04496b08144"
      },
      "execution_count": null,
      "outputs": [
        {
          "output_type": "execute_result",
          "data": {
            "text/plain": [
              "GridSearchCV(cv=ShuffleSplit(n_splits=10, random_state=42, test_size=0.2, train_size=None),\n",
              "             estimator=Pipeline(steps=[('poly', PolynomialFeatures()),\n",
              "                                       ('feature_scaling', StandardScaler()),\n",
              "                                       ('ridge', Ridge())]),\n",
              "             n_jobs=2,\n",
              "             param_grid={'poly__degree': (1, 2, 3),\n",
              "                         'ridge__alpha': array([1.00000000e-04, 1.62377674e-04, 2.63665090e-04, 4.28133240e-04,\n",
              "       6.95192796e-04, 1.12883789e-03, 1.83298071e-03, 2.97635144e-03,\n",
              "       4.83293024e-03, 7.84759970e-03, 1.27427499e-02, 2.06913808e-02,\n",
              "       3.35981829e-02, 5.45559478e-02, 8.85866790e-02, 1.43844989e-01,\n",
              "       2.33572147e-01, 3.79269019e-01, 6.15848211e-01, 1.00000000e+00])},\n",
              "             return_train_score=True, scoring='neg_mean_absolute_error')"
            ]
          },
          "metadata": {},
          "execution_count": 34
        }
      ]
    },
    {
      "cell_type": "code",
      "source": [
        "ridge_grid_search.best_index_"
      ],
      "metadata": {
        "colab": {
          "base_uri": "https://localhost:8080/"
        },
        "id": "zr5aLK8bFB_0",
        "outputId": "153f6d1a-ef7a-466b-9dbe-a6e5868487c1"
      },
      "execution_count": null,
      "outputs": [
        {
          "output_type": "execute_result",
          "data": {
            "text/plain": [
              "29"
            ]
          },
          "metadata": {},
          "execution_count": 39
        }
      ]
    },
    {
      "cell_type": "code",
      "source": [
        "mean_train_error=-1*ridge_grid_search.cv_results_['mean_train_score'][ridge_grid_search.best_index_]\n",
        "mean_test_error=-1*ridge_grid_search.cv_results_['mean_test_score'][ridge_grid_search.best_index_]\n",
        "std_train_error=-1*ridge_grid_search.cv_results_['std_train_score'][ridge_grid_search.best_index_]\n",
        "std_test_error=-1*ridge_grid_search.cv_results_['std_test_score'][ridge_grid_search.best_index_]\n",
        "\n",
        "print(f\"Best Mean absolute error of polynomial ridge regression model on the train set:\\n\"\n",
        "      f\"{mean_train_error:.3f}+/-{std_train_error:.3f}\")\n",
        "print(f\"Mean absolute error of polynomial ridge regression model on the test set:\\n\"\n",
        "      f\"{mean_test_error:.3f}+/-{std_test_error:.3f}\")"
      ],
      "metadata": {
        "colab": {
          "base_uri": "https://localhost:8080/"
        },
        "id": "fUb84rXmFfgo",
        "outputId": "071d85ab-389d-4c0e-f5b1-feb1195392a7"
      },
      "execution_count": null,
      "outputs": [
        {
          "output_type": "stream",
          "name": "stdout",
          "text": [
            "Best Mean absolute error of polynomial ridge regression model on the train set:\n",
            "0.463+/--0.004\n",
            "Mean absolute error of polynomial ridge regression model on the test set:\n",
            "0.474+/--0.015\n"
          ]
        }
      ]
    },
    {
      "cell_type": "code",
      "source": [
        "print(ridge_grid_search.best_score_) #score\n",
        "print(-ridge_grid_search.best_score_) #error\n"
      ],
      "metadata": {
        "colab": {
          "base_uri": "https://localhost:8080/"
        },
        "id": "8qrFQHHhG-qe",
        "outputId": "afbf029d-0a3b-4e90-bdb3-192c934f8809"
      },
      "execution_count": null,
      "outputs": [
        {
          "output_type": "stream",
          "name": "stdout",
          "text": [
            "-0.4738651176991914\n",
            "0.4738651176991914\n"
          ]
        }
      ]
    },
    {
      "cell_type": "code",
      "source": [
        "ridge_grid_search.best_params_"
      ],
      "metadata": {
        "colab": {
          "base_uri": "https://localhost:8080/"
        },
        "id": "RmB2WNoIHTNf",
        "outputId": "59e48291-0fdf-42ef-cce2-097449ba2d9d"
      },
      "execution_count": null,
      "outputs": [
        {
          "output_type": "execute_result",
          "data": {
            "text/plain": [
              "{'poly__degree': 2, 'ridge__alpha': 0.007847599703514606}"
            ]
          },
          "metadata": {},
          "execution_count": 44
        }
      ]
    },
    {
      "cell_type": "markdown",
      "source": [
        "##Lasso Regression\n",
        "\n",
        "##SGD:Regularization and HPT\n",
        "\n",
        "##RandomizedSearchCV\n",
        "\n",
        "##Performance on the test set"
      ],
      "metadata": {
        "id": "73237FP3Hd4m"
      }
    },
    {
      "cell_type": "markdown",
      "source": [
        "###Baseline"
      ],
      "metadata": {
        "id": "FEcaA7UOJB51"
      }
    },
    {
      "cell_type": "code",
      "source": [
        "baseline_model_median=DummyRegressor(strategy='median')\n",
        "baseline_model_median.fit(train_features,train_labels)\n",
        "mean_absolute_percentage_error(test_labels,baseline_model_median.predict(test_features))"
      ],
      "metadata": {
        "colab": {
          "base_uri": "https://localhost:8080/"
        },
        "id": "LoaFEDugHaf7",
        "outputId": "7b35a14a-48f7-467b-921a-b5b5a5f8da25"
      },
      "execution_count": null,
      "outputs": [
        {
          "output_type": "execute_result",
          "data": {
            "text/plain": [
              "0.5348927548151625"
            ]
          },
          "metadata": {},
          "execution_count": 46
        }
      ]
    },
    {
      "cell_type": "markdown",
      "source": [
        "###Linear regression with normal equation"
      ],
      "metadata": {
        "id": "9ScENTK6Jffw"
      }
    },
    {
      "cell_type": "code",
      "source": [
        "mean_absolute_percentage_error(test_labels,lin_reg_cv_results['estimator'][0].predict(test_features))"
      ],
      "metadata": {
        "colab": {
          "base_uri": "https://localhost:8080/"
        },
        "id": "eU2KPMTCJWUr",
        "outputId": "fd6f0476-a019-4387-9bc0-49cf2757059e"
      },
      "execution_count": null,
      "outputs": [
        {
          "output_type": "execute_result",
          "data": {
            "text/plain": [
              "0.32120472175482906"
            ]
          },
          "metadata": {},
          "execution_count": 47
        }
      ]
    },
    {
      "cell_type": "code",
      "source": [
        "# mean_absolute_percentage_error(test_labels,poly_sgd_random_search.best_estimator_.predict(test_features))"
      ],
      "metadata": {
        "id": "ct7GMr1JJspB"
      },
      "execution_count": null,
      "outputs": []
    },
    {
      "cell_type": "markdown",
      "source": [
        "###Polynomial regression"
      ],
      "metadata": {
        "id": "beLM18yjKNj2"
      }
    },
    {
      "cell_type": "code",
      "source": [
        "poly_reg_pipeline.fit(com_train_features,com_train_labels)\n",
        "mean_absolute_percentage_error(test_labels,poly_reg_pipeline.predict(test_features))"
      ],
      "metadata": {
        "colab": {
          "base_uri": "https://localhost:8080/"
        },
        "id": "b7gtna18J5Mj",
        "outputId": "6973ca18-c61c-48a0-dcd5-9f80d757bf01"
      },
      "execution_count": null,
      "outputs": [
        {
          "output_type": "execute_result",
          "data": {
            "text/plain": [
              "0.28199759082657244"
            ]
          },
          "metadata": {},
          "execution_count": 51
        }
      ]
    },
    {
      "cell_type": "markdown",
      "source": [
        "###Ridge Regression"
      ],
      "metadata": {
        "id": "DiJeKaZhKfqG"
      }
    },
    {
      "cell_type": "code",
      "source": [
        "mean_absolute_percentage_error(test_labels,ridge_grid_search.best_estimator_.predict(test_features))"
      ],
      "metadata": {
        "colab": {
          "base_uri": "https://localhost:8080/"
        },
        "id": "65PBiSUDKd8s",
        "outputId": "b64919c1-4b57-4014-a9d7-57b143327e29"
      },
      "execution_count": null,
      "outputs": [
        {
          "output_type": "execute_result",
          "data": {
            "text/plain": [
              "0.27110336451421413"
            ]
          },
          "metadata": {},
          "execution_count": 52
        }
      ]
    },
    {
      "cell_type": "code",
      "source": [
        ""
      ],
      "metadata": {
        "id": "9XGeauEwKs6_"
      },
      "execution_count": null,
      "outputs": []
    }
  ]
}