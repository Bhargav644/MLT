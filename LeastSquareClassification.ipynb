{
  "nbformat": 4,
  "nbformat_minor": 0,
  "metadata": {
    "colab": {
      "name": "LeastSquareClassification.ipynb",
      "provenance": [],
      "collapsed_sections": []
    },
    "kernelspec": {
      "name": "python3",
      "display_name": "Python 3"
    },
    "language_info": {
      "name": "python"
    }
  },
  "cells": [
    {
      "cell_type": "markdown",
      "source": [
        "##**Least Square classifier from scratch**"
      ],
      "metadata": {
        "id": "z8eYY8YZf-KV"
      }
    },
    {
      "cell_type": "markdown",
      "source": [
        "\n",
        "* Least square classification is used for estimating parameters of dicriminant function from the given training data.\n",
        "* Least square classification adapts linear regression model for classification\n",
        "    * it uses **least square error** as a loss function\n",
        "    * it uses **normal equation** method and **gradident descent** for estimation model parameters or weight vector.\n",
        "* Since it is a classification algorithim we would use classification related evaluation metrics such as precision,recall,F-1 score,AUC ROC/PR,and accuracy\n",
        "\n",
        "Additianally note that:\n",
        "* We make use of polynomial feature transformation.<br>\n",
        "$\\mathbf{y}=w_0+\\mathbf{w}^T\\phi(x)$\n",
        "\n",
        "where $\\phi(x)$ is a polynomial feature transformation.\n",
        "\n",
        "* We can tackle issues of overfitting by using ridge or lasso just like linear regression model."
      ],
      "metadata": {
        "id": "oQyHlEUjgFEe"
      }
    },
    {
      "cell_type": "code",
      "source": [
        "from IPython.display import display,Math,Latex  #for proper rendering of latex in colab\n",
        "import numpy as np\n",
        "\n",
        "# for generating plots\n",
        "import matplotlib.pyplot as plt\n",
        "import seaborn as sns\n",
        "\n",
        "%matplotlib inline"
      ],
      "metadata": {
        "id": "nnHp_SnlgEWA"
      },
      "execution_count": null,
      "outputs": []
    },
    {
      "cell_type": "code",
      "source": [
        "#@title [Polynomial Transformation]\n",
        "import numpy as np\n",
        "import itertools\n",
        "import functools\n",
        "def get_combinations(x,degree):\n",
        "  return itertools.combinations_with_replacement(x,degree)\n",
        "\n",
        "def compute_new_feature(items):\n",
        "  #reduce (lambda x,y:x*y, {1,2,3,4,5} calculates ((((1*2)*3)*4)*5)\n",
        "\n",
        "  return functools.reduce(lambda x,y:x*y,items)\n",
        "  \n",
        "def polynomial_transform(x,degree,logging=False):\n",
        "\n",
        "  #converts to feature matrix\n",
        "  if x.ndim==1:\n",
        "    x=x[:,None]  #creates [1,2,3] to [[1],[2],[3]]\n",
        "  \n",
        "  x_t=x.T\n",
        "  features=[np.ones(len(x))]\n",
        "\n",
        "  if logging:\n",
        "    print(\"Input\",x)\n",
        "  for p in range(1,degree+1):\n",
        "    for items in get_combinations(x_t,p): #generate combinations\n",
        "      features.append(compute_new_feature(items)) #combine features into a feature\n",
        "      if logging:\n",
        "        print(items,\":\",compute_new_feature(items))\n",
        "\n",
        "  if logging:\n",
        "    print(np.asarray(features).T)\n",
        "  return np.asarray(features).T     "
      ],
      "metadata": {
        "cellView": "form",
        "id": "0v1xvyfAqMhc"
      },
      "execution_count": null,
      "outputs": []
    },
    {
      "cell_type": "markdown",
      "source": [
        "##Lable Encoding\n",
        "\n",
        "Since the output y is a descrete quantity we use one-hot-encoding to represent label.For a binary classification\n",
        "* The label 0 is represented with [1,0], and\n",
        "* The label 1 is represented with [0,1].\n",
        "The same scheme is exteneded to the multi-class setting .In general for a  $k$ class set up we use one hot encoding in  $k$ component vector[$y_1,y_2,.....,y_k$].For label $1<=r<=k,y_r$ would be 1 and other components would be 0.\n",
        "\n",
        "Let's see for three class classification set up:\n",
        "* The label 0 is represented with [1,0,0]\n",
        "* The label 1 is represented with [0,1,0]\n",
        "* The label 2 is represented with [0,0,1]"
      ],
      "metadata": {
        "id": "BY4h-9NRqqRO"
      }
    },
    {
      "cell_type": "code",
      "source": [
        "class LabelTransformer(object):\n",
        "  '''\n",
        "  Label encoder decoder\n",
        "  Attributes\n",
        "  ------------\n",
        "  n_classes:int\n",
        "    number of classes,K\n",
        "  '''\n",
        "\n",
        "  def __init__(self,n_classes:int=None):\n",
        "    self.n_classes=n_classes\n",
        "  \n",
        "  @property\n",
        "  def n_classes(self):\n",
        "    return self.__n_classes\n",
        "\n",
        "  @n_classes.setter\n",
        "  def n_classes(self,K):\n",
        "    self.__n_classes=self.__encoder=None if K is None else np.eye(K)\n",
        "\n",
        "  @property\n",
        "  def encoder(self):\n",
        "    return self.__encoder\n",
        "\n",
        "  def encode(self,class_indices:np.ndarray):\n",
        "    '''\n",
        "    encode class index into one-of-k code\n",
        "    Parameters\n",
        "    ----------\n",
        "      class_indices:(N,) np.ndarray\n",
        "      non-negative class index\n",
        "      elements must be integer in [0,n_classes]\n",
        "    Returns\n",
        "    ----------\n",
        "    (N,K) np.ndarray\n",
        "      one-of-k encoding of input\n",
        "    '''\n",
        "    if self.n_classes is None:\n",
        "      self.n_classes=np.max(class_indices)+1\n",
        "    return self.encoder[class_indices]\n",
        "\n",
        "  def decode(self,onehot:np.ndarray):\n",
        "    '''\n",
        "    decode one-of-k into class index\n",
        "    Parameters\n",
        "    ----------\n",
        "    onehot:(N,K) np.ndarray\n",
        "      one-of-k code\n",
        "    Returns\n",
        "    ----------\n",
        "    (N) np.ndarray\n",
        "      class index\n",
        "    '''\n",
        "    return np.argmax(onehot,axis=1)"
      ],
      "metadata": {
        "id": "FppiQhZUqmT-"
      },
      "execution_count": null,
      "outputs": []
    },
    {
      "cell_type": "code",
      "source": [
        "binary_labels=LabelTransformer(2).encode(np.array([1,0,1,0]))\n",
        "binary_labels"
      ],
      "metadata": {
        "colab": {
          "base_uri": "https://localhost:8080/"
        },
        "id": "pKYxVp1tzQ7D",
        "outputId": "7873ea37-b3b9-4300-ed17-64627fd8ac1f"
      },
      "execution_count": null,
      "outputs": [
        {
          "output_type": "execute_result",
          "data": {
            "text/plain": [
              "array([[0., 1.],\n",
              "       [1., 0.],\n",
              "       [0., 1.],\n",
              "       [1., 0.]])"
            ]
          },
          "metadata": {},
          "execution_count": 6
        }
      ]
    },
    {
      "cell_type": "code",
      "source": [
        "multiclass_labels=LabelTransformer(3).encode(np.array([1,0,1,2]))\n",
        "multiclass_labels"
      ],
      "metadata": {
        "colab": {
          "base_uri": "https://localhost:8080/"
        },
        "id": "Efgjs8qszlsb",
        "outputId": "ef7a86c1-8b76-4c40-d907-6aac51b6d06d"
      },
      "execution_count": null,
      "outputs": [
        {
          "output_type": "execute_result",
          "data": {
            "text/plain": [
              "array([[0., 1., 0.],\n",
              "       [1., 0., 0.],\n",
              "       [0., 1., 0.],\n",
              "       [0., 0., 1.]])"
            ]
          },
          "metadata": {},
          "execution_count": 7
        }
      ]
    },
    {
      "cell_type": "markdown",
      "source": [
        "##Least square classification implementation"
      ],
      "metadata": {
        "id": "iFArssuQu_nk"
      }
    },
    {
      "cell_type": "markdown",
      "source": [
        "###Training data\n",
        "This representation of label has an impact on the learning set up.Now we have\n",
        "* A feature matrix $X$ of shape $(n,m)$ where $n$ is the number of examples ,$m$ is the number of features\n",
        "* A labels matrix $Y$ of shape $(n,k)$ where k is number of class labels.Note that this set up is similar to multiple regression\n",
        "\n",
        "###Model\n",
        "\n",
        "The label matrix is obtained by matrix multiplication of feature matrix and weight matrix.After adding a dummy feature to feature matrix ,its shape becomes $n$x$(m+1)$\n",
        "\n",
        "$Y_{n.(m+1)}=X_{n.(m+1)}W_{(m+1).k}$\n",
        "\n",
        "There is one weight vector per output\n",
        "\n",
        "###Loss Function\n",
        "\n",
        "  watch the vedio"
      ],
      "metadata": {
        "id": "v2ydvlFgvFfa"
      }
    },
    {
      "cell_type": "code",
      "source": [
        "# @title [Least Square Classification class]\n",
        "class LeastSquareClassification(object):\n",
        "    '''            I\n",
        "        Linear regression model\n",
        "        y=xew\n",
        "        X:Afeature matrix\n",
        "        w:weight vector\n",
        "        y:label vector\n",
        "    '''\n",
        "    def __init__(self):\n",
        "      self.t0=20\n",
        "      self.t1=1000\n",
        "    def predict(self,X:np.ndarray)->np.ndarray:\n",
        "      '''Prediction of output label foragiven input.\n",
        "      Args:\n",
        "        X:Feature matrix for given inputs.\n",
        "      Returns:\n",
        "        y:Output label vector as predicted by the given model.\n",
        "      '''\n",
        "      assert X.shape[-1]==self.w.shape[0],f\"X shape {X.shape} and w shape {self.w.shape},are not compatible\"\n",
        "      return np.argmax(X@self.w,axis=-1)\n",
        "\n",
        "    def predict_internal(self,X:np.ndarray)->np.ndarray:\n",
        "      '''\n",
        "        Prediction of output label for a given input.\n",
        "\n",
        "        Args:\n",
        "          X:Feature matrix for given inputs\n",
        "        Returns:\n",
        "          y:Output label vector encoded in label encoder format\n",
        "      '''\n",
        "      assert X.shape[-1]==self.w.shape[0],f\"X shape {X.shape} and w shape {self.w.shape},are not compatible\"\n",
        "      return X@self.w\n",
        "    def loss(self,X:np.ndarray,y:np.ndarray,reg_rate:float)->float:\n",
        "      ''' Calculates loss foramodel based on known labels.\n",
        "          Args:\n",
        "            X:Feature matrix for given inputs.\n",
        "            y:Output label vector as predicted by the given model.\n",
        "          Returns:\n",
        "            Loss\n",
        "      '''\n",
        "      e=self.predict_internal(X)-y\n",
        "      # return (1/2)*(np.transpose(e)@e)\n",
        "      return (1/2)*(np.transpose(e)@e)+(reg_rate/2)*(np.transpose(self.w)@self.w)\n",
        "    def rmse(self,X:np.ndarray,y:np.ndarray)->float:\n",
        "      ''' Calculates root mean squared error of prediction w.r.t. actual label.\n",
        "          Args:\n",
        "          X:Feature matrix for given inputs.\n",
        "          y:Output label vector as predicted by the given model.\n",
        "          Returns:\n",
        "          Loss\n",
        "      ''' \n",
        "      return np.sqrt((2/X.shape[0])*self.loss(X,y))\n",
        "    def fit(self,X:np.ndarray,y:np.ndarray,reg_rate:float)->np.ndarray:\n",
        "      ''' Estimates parameters of the linear regression model with normal equation.\n",
        "            Args:\n",
        "            X:Feature matrix for given inputs.\n",
        "            y:Output label vector as predicted by the given model.\n",
        "                  I\n",
        "            Returns:\n",
        "            Weight vector\n",
        "      '''\n",
        "      # self.w=np.linalg.pinv(X)@y\n",
        "      # return self.w\n",
        "      self.w=np.zeros((X.shape[1]))\n",
        "      eye=np.eye(np.size(X,1))\n",
        "      self.w=np.linalg.solve(\n",
        "          reg_rate*eye+X.T@X,\n",
        "          X.T@y,\n",
        "      )\n",
        "      return self.w\n",
        "    def calculate_gradient(self,X:np.ndarray,y:np.ndarray,reg_rate:float)->np.ndarray:\n",
        "      '''Calculates gradients of loss function w.r.t weight vector on training set.\n",
        "          Arguments:\n",
        "              X:Feature matrix for training data.\n",
        "              y:Label vector for training data.\n",
        "          Returns:\n",
        "              A vector of gradients.\n",
        "      '''\n",
        "      return np.transpose(X)@(self.predict_internal(X)-y)+reg_rate*self.w\n",
        "    def update_weights(self,grad:np.ndarray,lr:float)->np.ndarray:\n",
        "      '''Updates the weights based on the gradient of loss function.\n",
        "        Weight updates are carried out with the following formula:\n",
        "            w_new:=w_old-ir*grad\n",
        "        Args:\n",
        "          2. grad:gradient of loss w.r.t.w\n",
        "          3. lr:learning rate\n",
        "        Returns:\n",
        "          Updated weight vector\n",
        "      '''\n",
        "      return(self.w-lr*grad)\n",
        "\n",
        "    def learning_schedule(self,t):\n",
        "      return self.t0/(t+self.t1)\n",
        "    def gd(self,X:np.ndarray,y:np.ndarray,num_epochs:int,lr:float,reg_rate:float)->np.ndarray:\n",
        "      '''Estimates parameters of linear regression model through gradient descent.\n",
        "          Args:\n",
        "                X:Feature matrix for training data.\n",
        "                y:Label vector for training data.\n",
        "                num_epochs:Number of training steps\n",
        "                1r:Learning rate\n",
        "          Returns:\n",
        "              Weight vector:Final weight vector\n",
        "      '''\n",
        "      self.w=np.zeros((X.shape[-1],y.shape[-1]))\n",
        "      self.w_all=[]\n",
        "      self.err_all=[]\n",
        "      for i in np.arange(0,num_epochs):\n",
        "        dJdw=self.calculate_gradient(X,y,reg_rate)\n",
        "        self.w_all.append(self.w)\n",
        "        self.err_all.append(self.loss(X,y,reg_rate))\n",
        "        self.w=self.update_weights(dJdw,lr)\n",
        "      return self.w\n",
        "\n",
        "\n",
        "    def mbgd(self,X:np.ndarray,y:np.ndarray,num_epochs:int,batch_size:int)->np.ndarray:\n",
        "      ''' Estimates parameters of linear regression model through gradient descent.\n",
        "          Args:\n",
        "            X:Feature matrix for training data.\n",
        "              y:Label vector for training data.\n",
        "              num_epochs:Number of training steps\n",
        "              batch_size:Number of examples inabatch\n",
        "          Returns:\n",
        "            Weight vector:Final weight vector\n",
        "      '''\n",
        "      self.w=np.zeros((X.shape[1]))\n",
        "      self.w_all=[]\n",
        "      self.err_all=[]\n",
        "      mini_batch_id=0\n",
        "\n",
        "      for epoch in range(num_epochs):\n",
        "        shuffled_indices=np.random.permutation(X.shape[0])\n",
        "        X_shuffled=X[shuffled_indices]\n",
        "        y_shuffled=y[shuffled_indices]\n",
        "        for i in range(0,X.shape[0],batch_size):\n",
        "          mini_batch_id+=1\n",
        "          xi=X_shuffled[i:i+batch_size]\n",
        "          yi=y_shuffled[i:i+batch_size]\n",
        "\n",
        "          self.w_all.append(self.w)\n",
        "          self.err_all.append(self.loss(xi,yi))\n",
        "\n",
        "          dJdw=2/batch_size*self.calculate_gradient(xi,yi)\n",
        "          self.w=self.update_weights(dJdw,self.learning_schedule(mini_batch_id))\n",
        "      return self.w\n",
        "\n",
        "    def sgd(self,X:np.ndarray,y:np.ndarray,num_epochs:int,reg_rate:float)->np.ndarray:\n",
        "      '''Estimates parameters of linear regression model through gradient descent.\n",
        "          Args:\n",
        "            X:Feature matrix for training data.\n",
        "            y:Label vector for training data.\n",
        "              num_epochs:Number of training steps\n",
        "            batch_size:Number of examples inabatch\n",
        "          Returns:\n",
        "            Weight vector:Final weight vector\n",
        "      '''\n",
        "      #Parameter vector initialized to[0,0]\n",
        "      self.w=np.zeros((X.shape[-1],y.shape[-1]))\n",
        "      self.w_all=[]\n",
        "      self.err_all=[]\n",
        "      for epoch in range(num_epochs):\n",
        "        for i in range(X.shape[0]):\n",
        "          random_index=np.random.randint(X.shape[0])\n",
        "          xi=X[random_index:random_index+1]\n",
        "          yi=y[random_index:random_index+1]\n",
        "          \n",
        "          self.w_all.append(self.w)\n",
        "          self.err_all.append(self.loss(xi,yi,reg_rate))\n",
        "        \n",
        "          gradients=2*self.calculate_gradient(xi,yi,reg_rate)\n",
        "          lr=self.learning_schedule(epoch*X.shape[0]+i)\n",
        "          \n",
        "          self.w=self.update_weights(gradients,lr)\n",
        "      return self.w   "
      ],
      "metadata": {
        "cellView": "form",
        "id": "nPGgx37BBwZN"
      },
      "execution_count": null,
      "outputs": []
    },
    {
      "cell_type": "code",
      "source": [
        "#@title [Least Square Classification Class 2]\n",
        "class LeastSquareClassification_2(object):\n",
        "  '''\n",
        "  LSC Model\n",
        "  ----------------\n",
        "  y=np.where(X@w>=0,1,0)\n",
        "  X: A feature matrix\n",
        "  w: weight vector\n",
        "  y: label vector\n",
        "  '''\n",
        "  def __init__(self):\n",
        "    self.t0=20\n",
        "    self.t1=1000\n",
        "  \n",
        "  def predict(self,X:np.ndarray)->np.ndarray:\n",
        "    '''\n",
        "    Prediction of output label for a given input.\n",
        "\n",
        "    Args:\n",
        "      X: Feature matrix for given inputs.\n",
        "\n",
        "    Returns:\n",
        "      y: Output label vector as predicted by the given model.\n",
        "    '''\n",
        "    #check to make sure that the shape are compatible.\n",
        "    assert X.shape[-1]==self.w.shape[0], f'X shape {X.shape} and shape {self.w.shape}, are not compatible'\n",
        "    return np.argmax(X@self.w,axis=-1)\n",
        "\n",
        "  def predict_internal(self,X:np.ndarray) -> np.ndarray:\n",
        "    '''Predication of putput label for a given input.\n",
        "    Args:\n",
        "    X: Feature matrix for given inputs.\n",
        "\n",
        "    Returns:\n",
        "    y: Output label vector encoded in label encoder format.\n",
        "    '''\n",
        "    #check to make sure that the shapes are compatible.\n",
        "    assert X.shape[-1]==self.w.shape[0],f'X shape {X.shape} and w shape{self.w.shape}, are not compatible'\n",
        "    return X@self.w\n",
        "  \n",
        "  def loss(self,X:np.ndarray,y:np.ndarray,reg_rate:float)->float:\n",
        "    y_hat=self.predict_internal(X)\n",
        "    assert y_hat.shape==y.shape, f'Predicted label shape {y_hat.shape} and Actual label shape {y.shape}, are not compatible'\n",
        "    err=y_hat-y\n",
        "    return (1/2)*(err.T@err)+(reg_rate/2)*(self.w.T@self.w)\n",
        "\n",
        "  def fit(self,X:np.ndarray,y:np.ndarray,reg_rate:float=0)-> np.ndarray:\n",
        "    self.w=np.linalg.solve(X.T@X+reg_rate*np.eye(X.shape[-1]),X.T@y)\n",
        "    return self.w\n",
        "  \n",
        "  def calculate_gradient(self,X:np.ndarray,y:np.ndarray,reg_rate:float)->np.ndarray:\n",
        "    y_hat=self.predict_internal(X)\n",
        "    return X.T@(y_hat-y) + reg_rate*self.w\n",
        "  \n",
        "  def weight_updates(self, grad:np.array,lr:float)-> np.ndarray:\n",
        "    return (self.w-lr*grad)\n",
        "  \n",
        "  def learning_schedule(self,t):\n",
        "    return self.t0/(t+self.t1)\n",
        "  \n",
        "  def gd(self,X:np.ndarray,y:np.ndarray,num_epochs:int,lr:float,reg_rate:float)->np.ndarray:\n",
        "    self.w=np.zeros((X.shape[-1],y.shape[-1]))\n",
        "    self.w_all=[]\n",
        "    self.err_all=[]\n",
        "    for i in np.arange(0,num_epochs):\n",
        "      djdw=self.calculate_gradient(X,y,reg_rate)\n",
        "      self.w_all.append(self.w)\n",
        "      self.err_all.append(self.loss(X,y,reg_rate))\n",
        "      self.w = self.weight_updates(djdw,lr)\n",
        "    return self.w\n",
        "  \n",
        "  def sgd(self, X:np.ndarray,y:np.ndarray,num_epochs,reg_rate:float):\n",
        "    self.err_all=[]\n",
        "    self.w_all=[]\n",
        "    self.w=np.zeros((X.shape[-1],y.shape[-1]))\n",
        "    t=0\n",
        "    for epoch in range(num_epochs):\n",
        "      for iter in range(X.shape[0]):\n",
        "        t=t+1\n",
        "        random_index=np.random.randint(X.shape[0])\n",
        "        x1=X[random_index:random_index+1]\n",
        "        y1=y[random_index:random_index+1]\n",
        "\n",
        "        self.w_all.append(self.w)\n",
        "        self.err_all.append(self.loss(x1,y1,reg_rate))\n",
        "\n",
        "        djdw=self.calculate_gradient(x1,y1,reg_rate)\n",
        "        self.w=self.weight_updates(djdw,self.learning_schedule(t))\n",
        "    return self.w"
      ],
      "metadata": {
        "cellView": "form",
        "id": "RoIRHeeMS-k9"
      },
      "execution_count": null,
      "outputs": []
    },
    {
      "cell_type": "markdown",
      "source": [
        "##Demonstration\n",
        "We will demonstrate working on least square classification in the following set ups:\n",
        "\n",
        "1. Linearly seperable binary classification set up\n",
        "2. Linearly seperable binary classification set up with a few outlier points.\n",
        "3. Multi-class classification with k=3\n",
        "4. Polynomial least square classification.\n",
        "\n",
        "Let's create a dataset for binary classification with #samples,$n=50$\n",
        "* it also has facility to add outliers to the generated dataset\n",
        "* And it can generate samples from multiple classes(>2)"
      ],
      "metadata": {
        "id": "86obpefu2p31"
      }
    },
    {
      "cell_type": "code",
      "source": [
        "#np.int is depriciated to int\n",
        "def create_toy_data(add_outliers=False,add_class=False):\n",
        "  x0=np.random.normal(size=50).reshape(-1,2)-1\n",
        "  x1=np.random.normal(size=50).reshape(-1,2)+1\n",
        "  if add_outliers:\n",
        "    x_1=np.random.normal(size=10).reshape(-1,2)+np.array([5.,10.])\n",
        "    return np.concatenate([x0,x1,x_1]),np.concatenate([np.zeros(25),np.ones(30)]).astype(int)\n",
        "  if add_class:\n",
        "    x2=np.random.normal(size=50).reshape(-1,2)+2\n",
        "    return np.concatenate([x0,x1,x2]),np.concatenate([np.zeros(25),np.ones(25),2+np.zeros(25)]).astype(int) \n",
        "  return np.concatenate([x0,x1]),np.concatenate([np.zeros(25),np.ones(25)]).astype(int)   "
      ],
      "metadata": {
        "id": "a1lAwyiZ2U-a"
      },
      "execution_count": null,
      "outputs": []
    },
    {
      "cell_type": "markdown",
      "source": [
        "First let's define generic data preprocessing function"
      ],
      "metadata": {
        "id": "2wkSTeyl8SZk"
      }
    },
    {
      "cell_type": "code",
      "source": [
        "from sklearn.model_selection import train_test_split\n",
        "\n",
        "def preprocess(add_class=False,add_outliers=False,degree=1):\n",
        "  x,y=create_toy_data(add_outliers,add_class)\n",
        "  x_poly=polynomial_transform(x,degree=degree)\n",
        "  x_train,x_test,y_train,y_test=train_test_split(x_poly,y)\n",
        "  y_train_trans=LabelTransformer().encode(y_train)\n",
        "  y_test_trans=LabelTransformer().encode(y_test)\n",
        "  return x_train,x_test,y_train,y_test,y_train_trans,y_test_trans"
      ],
      "metadata": {
        "id": "YFX8pcHB45MU"
      },
      "execution_count": null,
      "outputs": []
    },
    {
      "cell_type": "code",
      "source": [
        "sns.set_context(\"notebook\",font_scale=1.5,rc={\"lines.linewidth\":2.5})\n",
        "\n",
        "def visualize_model(X_train,labels,lsc_obj,degree=1):\n",
        "  f=plt.figure(figsize=(8,8))\n",
        "\n",
        "  x1_min=np.min(x_train[:,1])\n",
        "  x1_max=np.max(x_train[:,1])\n",
        "  x2_min=np.min(x_train[:,2])\n",
        "  x2_max=np.max(x_train[:,2])\n",
        "\n",
        "\n",
        "  x1_test,x2_test=np.meshgrid(np.linspace(x1_min,x1_max,100),np.linspace(x2_min,x2_max,100))\n",
        "  x_test=np.array([x1_test,x2_test]).reshape(2,-1).T\n",
        "  x_test_poly=polynomial_transform(x_test,degree=degree)\n",
        "  y_test=lsc_obj.predict(x_test_poly)\n",
        "\n",
        "  sns.scatterplot(data=X_train,x=X_train[:,1],y=X_train[:,2],hue=labels)\n",
        "  plt.contourf(x1_test,x2_test,y_test.reshape(100,100),alpha=0.5,levels=np.linspace(0,1,3))\n",
        "\n",
        "  plt.xlabel(\"$x_1$\")\n",
        "  plt.ylabel(\"$x_2$\")\n",
        "\n",
        "  plt.xlim(x1_min,x1_max)\n",
        "  plt.ylim(x2_min,x2_max)\n",
        "\n",
        "  plt.gca().set_aspect('equal',adjustable='box')\n",
        "  plt.show()\n"
      ],
      "metadata": {
        "id": "ybtzMAi898a1"
      },
      "execution_count": null,
      "outputs": []
    },
    {
      "cell_type": "code",
      "source": [
        "x_train,x_test,y_train,y_test,y_train_trans,y_test_trans=preprocess()"
      ],
      "metadata": {
        "id": "FWXUQpl--332"
      },
      "execution_count": null,
      "outputs": []
    },
    {
      "cell_type": "code",
      "source": [
        "print(\"\\nShape of training feature matrix:\",x_train.shape)\n",
        "print(\"Shape of label vector:\",y_train.shape)\n",
        "\n",
        "print(\"\\nShape of test feature matrix:\",x_test.shape)\n",
        "print(\"Shape of test label vector:\",y_test.shape)"
      ],
      "metadata": {
        "colab": {
          "base_uri": "https://localhost:8080/"
        },
        "id": "4QXv4PYw-8CQ",
        "outputId": "bd1e1c23-185e-4c34-ea16-515064109579"
      },
      "execution_count": null,
      "outputs": [
        {
          "output_type": "stream",
          "name": "stdout",
          "text": [
            "\n",
            "Shape of training feature matrix: (37, 3)\n",
            "Shape of label vector: (37,)\n",
            "\n",
            "Shape of test feature matrix: (13, 3)\n",
            "Shape of test label vector: (13,)\n"
          ]
        }
      ]
    },
    {
      "cell_type": "markdown",
      "source": [
        "##Visualize model"
      ],
      "metadata": {
        "id": "_HiVpNslIuBp"
      }
    },
    {
      "cell_type": "code",
      "source": [
        "sns.set_style('white')\n",
        "f=plt.figure(figsize=(8,8))\n",
        "sns.set_context('notebook',font_scale=1.5,rc={\"lines.linewidth\":2.5})\n",
        "\n",
        "sns.scatterplot(data=x_train,x=x_train[:,-2],y=x_train[:,-1],hue=y_train)\n",
        "plt.xlabel(\"$x_1$\")\n",
        "plt.ylabel(\"$x_2$\")\n",
        "plt.show()"
      ],
      "metadata": {
        "colab": {
          "base_uri": "https://localhost:8080/",
          "height": 515
        },
        "id": "lUJnjucyIxx_",
        "outputId": "681349c2-7716-44e4-8359-1c1c1beac8f1"
      },
      "execution_count": null,
      "outputs": [
        {
          "output_type": "display_data",
          "data": {
            "text/plain": [
              "<Figure size 576x576 with 1 Axes>"
            ],
            "image/png": "[encoded data removed]"
          },
          "metadata": {}
        }
      ]
    },
    {
      "cell_type": "code",
      "source": [
        "lsc=LeastSquareClassification()"
      ],
      "metadata": {
        "id": "GMsd7-qWA6oP"
      },
      "execution_count": null,
      "outputs": []
    },
    {
      "cell_type": "code",
      "source": [
        "lsc.fit(x_train,y_train_trans,reg_rate=0)\n",
        "print(\"Weight vector\",lsc.w)\n",
        "visualize_model(x_train,y_train,lsc)"
      ],
      "metadata": {
        "colab": {
          "base_uri": "https://localhost:8080/",
          "height": 559
        },
        "id": "Wim0eD16BTcY",
        "outputId": "9d233191-4c4f-46ba-9ca3-60774f59b6cf"
      },
      "execution_count": null,
      "outputs": [
        {
          "output_type": "stream",
          "name": "stdout",
          "text": [
            "Weight vector [[ 0.52374576  0.47625424]\n",
            " [-0.15310116  0.15310116]\n",
            " [-0.18810453  0.18810453]]\n"
          ]
        },
        {
          "output_type": "display_data",
          "data": {
            "text/plain": [
              "<Figure size 576x576 with 1 Axes>"
            ],
            "image/png": "[encoded data removed]"
          },
          "metadata": {}
        }
      ]
    },
    {
      "cell_type": "code",
      "source": [
        "\n",
        "def plot_learning_curve(err_all):\n",
        "  err=[err[1][1] for err in err_all]\n",
        "  plt.plot(np.arange(len(err)),err,'r-')\n",
        "  plt.xlabel('Iter #')\n",
        "  plt.ylabel('$\\mathbf{J(w)}$')"
      ],
      "metadata": {
        "id": "sZP2RLxpBc_6"
      },
      "execution_count": null,
      "outputs": []
    },
    {
      "cell_type": "markdown",
      "source": [
        "Let's train model with SGD and examine the learning curve"
      ],
      "metadata": {
        "id": "gDdi4rryF9ku"
      }
    },
    {
      "cell_type": "code",
      "source": [
        "lsc.sgd(x_train,y_train_trans,num_epochs=100,reg_rate=0)\n",
        "plot_learning_curve(lsc.err_all)"
      ],
      "metadata": {
        "colab": {
          "base_uri": "https://localhost:8080/",
          "height": 298
        },
        "id": "2WNVXQw_FBHj",
        "outputId": "03de0da9-4548-44e0-96c7-f1b77e145d43"
      },
      "execution_count": null,
      "outputs": [
        {
          "output_type": "display_data",
          "data": {
            "text/plain": [
              "<Figure size 432x288 with 1 Axes>"
            ],
            "image/png": "[encoded data removed]"
          },
          "metadata": {}
        }
      ]
    },
    {
      "cell_type": "code",
      "source": [
        "visualize_model(x_train,y_train,lsc)"
      ],
      "metadata": {
        "colab": {
          "base_uri": "https://localhost:8080/",
          "height": 507
        },
        "id": "MF2o1mVCGPgg",
        "outputId": "77f4eff5-1648-4da7-bfd5-c6bc06619481"
      },
      "execution_count": null,
      "outputs": [
        {
          "output_type": "display_data",
          "data": {
            "text/plain": [
              "<Figure size 576x576 with 1 Axes>"
            ],
            "image/png": "[encoded data removed]"
          },
          "metadata": {}
        }
      ]
    },
    {
      "cell_type": "code",
      "source": [
        "lsc=LeastSquareClassification()\n",
        "lsc.gd(x_train,y_train_trans,num_epochs=100,reg_rate=0,lr=1e-3)"
      ],
      "metadata": {
        "colab": {
          "base_uri": "https://localhost:8080/"
        },
        "id": "LKjA6Ta3TO_9",
        "outputId": "d8340d14-a7f0-4e7a-973e-aff92f7d574e"
      },
      "execution_count": null,
      "outputs": [
        {
          "output_type": "execute_result",
          "data": {
            "text/plain": [
              "array([[ 0.50925183,  0.46422172],\n",
              "       [-0.15072727,  0.15586728],\n",
              "       [-0.18809366,  0.18710416]])"
            ]
          },
          "metadata": {},
          "execution_count": 51
        }
      ]
    },
    {
      "cell_type": "code",
      "source": [
        "plot_learning_curve(lsc.err_all)"
      ],
      "metadata": {
        "colab": {
          "base_uri": "https://localhost:8080/",
          "height": 298
        },
        "id": "hZ26eZBrxo6l",
        "outputId": "ba4bbb02-92b4-4fb2-d860-f965616c8c70"
      },
      "execution_count": null,
      "outputs": [
        {
          "output_type": "display_data",
          "data": {
            "text/plain": [
              "<Figure size 432x288 with 1 Axes>"
            ],
            "image/png": "[encoded data removed]"
          },
          "metadata": {}
        }
      ]
    },
    {
      "cell_type": "code",
      "source": [
        "visualize_model(x_train,y_train,lsc)"
      ],
      "metadata": {
        "colab": {
          "base_uri": "https://localhost:8080/",
          "height": 507
        },
        "id": "-etmDFThxtAj",
        "outputId": "bee7e08c-5fd1-4f37-f492-38f86bfad3aa"
      },
      "execution_count": null,
      "outputs": [
        {
          "output_type": "display_data",
          "data": {
            "text/plain": [
              "<Figure size 576x576 with 1 Axes>"
            ],
            "image/png": "[encoded data removed]"
          },
          "metadata": {}
        }
      ]
    },
    {
      "cell_type": "markdown",
      "source": [
        "###Evaluation metrics"
      ],
      "metadata": {
        "id": "2WSt2Yl4x-K5"
      }
    },
    {
      "cell_type": "code",
      "source": [
        "print(x_test.shape)\n",
        "y_test_hat=lsc.predict(x_test)"
      ],
      "metadata": {
        "colab": {
          "base_uri": "https://localhost:8080/"
        },
        "id": "WWj580qGxvjX",
        "outputId": "d11d5e03-5359-4f6c-914f-82fc38588359"
      },
      "execution_count": null,
      "outputs": [
        {
          "output_type": "stream",
          "name": "stdout",
          "text": [
            "(13, 3)\n"
          ]
        }
      ]
    },
    {
      "cell_type": "markdown",
      "source": [
        "Get counts of true positive and negatives,false positives and negatives"
      ],
      "metadata": {
        "id": "JOS3LP1wyOHy"
      }
    },
    {
      "cell_type": "code",
      "source": [
        "tp=np.where((y_test==1)& (y_test_hat==1),1,0).sum()\n",
        "tn=np.where((y_test==0)& (y_test_hat==0),1,0).sum()\n",
        "fp=np.where((y_test==0)& (y_test_hat==1),1,0).sum()\n",
        "fn=np.where((y_test==1)& (y_test_hat==0),1,0).sum()"
      ],
      "metadata": {
        "id": "wE9Wg9ZvyKb-"
      },
      "execution_count": null,
      "outputs": []
    },
    {
      "cell_type": "code",
      "source": [
        "from numpy import NaN\n",
        "def precision(tp,fp):\n",
        "  if(tp+fp)==0:return NaN\n",
        "  return tp/(tp+fp)"
      ],
      "metadata": {
        "id": "5Hpqf9ALy44W"
      },
      "execution_count": null,
      "outputs": []
    },
    {
      "cell_type": "code",
      "source": [
        "def recall(tp,fn):\n",
        "  if(tp+fn)==0:return NaN\n",
        "  return tp/(tp+fn)"
      ],
      "metadata": {
        "id": "PFhXvXCOzZ9f"
      },
      "execution_count": null,
      "outputs": []
    },
    {
      "cell_type": "code",
      "source": [
        "def accuracy(tp,fp,tn,fn):\n",
        "  return (tp+tn)/(tp+tn+fp+fn)"
      ],
      "metadata": {
        "id": "UZS95rPFzf_p"
      },
      "execution_count": null,
      "outputs": []
    },
    {
      "cell_type": "code",
      "source": [
        "def fl_score(pr,r): #harmonic mean of pr and r\n",
        "  return 2*((pr*r)/(pr+r))"
      ],
      "metadata": {
        "id": "1f_-95YBzpN8"
      },
      "execution_count": null,
      "outputs": []
    },
    {
      "cell_type": "code",
      "source": [
        "pr=precision(tp,fp)\n",
        "r=recall(tp,fn)\n",
        "\n",
        "print(\"Precision:\",pr)\n",
        "print(\"Recall:\",r)\n",
        "print(\"Accuracy:\",accuracy(tp,fp,tn,fn))\n",
        "print(\"Fl score:\",fl_score(pr,r))"
      ],
      "metadata": {
        "colab": {
          "base_uri": "https://localhost:8080/"
        },
        "id": "LiepHyW7z3a0",
        "outputId": "59da78b4-7586-4ad7-a39a-c73ee614bbb7"
      },
      "execution_count": null,
      "outputs": [
        {
          "output_type": "stream",
          "name": "stdout",
          "text": [
            "Precision: 1.0\n",
            "Recall: 1.0\n",
            "Accuracy: 1.0\n",
            "Fl score: 1.0\n"
          ]
        }
      ]
    },
    {
      "cell_type": "markdown",
      "source": [
        "##Linearly separable binary classification with outliers"
      ],
      "metadata": {
        "id": "Vof3rYLi0sSg"
      }
    },
    {
      "cell_type": "code",
      "source": [
        "x_train,x_test,y_train,y_test,y_train_trans,y_test_trans=preprocess(add_outliers=True)"
      ],
      "metadata": {
        "id": "6PtYOPC30NSD"
      },
      "execution_count": null,
      "outputs": []
    },
    {
      "cell_type": "code",
      "source": [
        "print(\"\\nShape of training feature matrix:\",x_train.shape)\n",
        "print(\"Shape of label vector:\",y_train.shape)\n",
        "\n",
        "print(\"\\nShape of test feature matrix:\",x_test.shape)\n",
        "print(\"Shape of test label vector:\",y_test.shape)"
      ],
      "metadata": {
        "colab": {
          "base_uri": "https://localhost:8080/"
        },
        "id": "zQrB1lXP1Hx7",
        "outputId": "848139a5-2ef9-42ea-9dc3-17d2afd5f33d"
      },
      "execution_count": null,
      "outputs": [
        {
          "output_type": "stream",
          "name": "stdout",
          "text": [
            "\n",
            "Shape of training feature matrix: (41, 3)\n",
            "Shape of label vector: (41,)\n",
            "\n",
            "Shape of test feature matrix: (14, 3)\n",
            "Shape of test label vector: (14,)\n"
          ]
        }
      ]
    },
    {
      "cell_type": "markdown",
      "source": [
        "##Visualizing"
      ],
      "metadata": {
        "id": "OX6pEWgh1O_S"
      }
    },
    {
      "cell_type": "code",
      "source": [
        "sns.set_style('white')\n",
        "f=plt.figure(figsize=(8,8))\n",
        "sns.set_context('notebook',font_scale=1.5,rc={\"lines.linewidth\":2.5})\n",
        "\n",
        "sns.scatterplot(data=x_train,x=x_train[:,-2],y=x_train[:,-1],hue=y_train)\n",
        "plt.xlabel(\"$x_1$\")\n",
        "plt.ylabel(\"$x_2$\")\n",
        "plt.show()"
      ],
      "metadata": {
        "colab": {
          "base_uri": "https://localhost:8080/",
          "height": 515
        },
        "id": "vVyXfTZH1JBk",
        "outputId": "7aef7da7-6a1b-4d56-e684-a047afd0ac60"
      },
      "execution_count": null,
      "outputs": [
        {
          "output_type": "display_data",
          "data": {
            "text/plain": [
              "<Figure size 576x576 with 1 Axes>"
            ],
            "image/png": "[encoded data removed]"
          },
          "metadata": {}
        }
      ]
    },
    {
      "cell_type": "code",
      "source": [
        "lsc_outlier=LeastSquareClassification()\n",
        "lsc_outlier.fit(x_train,y_train_trans,reg_rate=0)\n",
        "# print(\"Weight vector\",lsc.w)\n",
        "visualize_model(x_train,y_train,lsc_outlier)"
      ],
      "metadata": {
        "colab": {
          "base_uri": "https://localhost:8080/",
          "height": 515
        },
        "id": "0M2Ku2Tr1Sfs",
        "outputId": "fcdee2b8-de05-4881-b141-fc82949fe67a"
      },
      "execution_count": null,
      "outputs": [
        {
          "output_type": "display_data",
          "data": {
            "text/plain": [
              "<Figure size 576x576 with 1 Axes>"
            ],
            "image/png": "[encoded data removed]"
          },
          "metadata": {}
        }
      ]
    },
    {
      "cell_type": "markdown",
      "source": [
        "##Demo#3:Multiclass set up\n",
        "\n",
        "In this set up we demonstrate multi-class set up with three classes"
      ],
      "metadata": {
        "id": "mRRmYEec125f"
      }
    },
    {
      "cell_type": "code",
      "source": [
        "x_train,x_test,y_train,y_test,y_train_trans,y_test_trans=preprocess(add_class=True)"
      ],
      "metadata": {
        "id": "XBqNMsXK1oLI"
      },
      "execution_count": null,
      "outputs": []
    },
    {
      "cell_type": "code",
      "source": [
        "sns.set_style('white')\n",
        "f=plt.figure(figsize=(8,8))\n",
        "sns.set_context('notebook',font_scale=1.5,rc={\"lines.linewidth\":2.5})\n",
        "\n",
        "sns.scatterplot(data=x_train,x=x_train[:,-2],y=x_train[:,-1],hue=y_train)\n",
        "plt.xlabel(\"$x_1$\")\n",
        "plt.ylabel(\"$x_2$\")\n",
        "plt.show()"
      ],
      "metadata": {
        "colab": {
          "base_uri": "https://localhost:8080/",
          "height": 515
        },
        "id": "UFvybJFe2K5z",
        "outputId": "d15fafef-cafa-4ac1-ac7d-ce306e1d2089"
      },
      "execution_count": null,
      "outputs": [
        {
          "output_type": "display_data",
          "data": {
            "text/plain": [
              "<Figure size 576x576 with 1 Axes>"
            ],
            "image/png": "[encoded data removed]"
          },
          "metadata": {}
        }
      ]
    },
    {
      "cell_type": "code",
      "source": [
        "np.unique(y_train)"
      ],
      "metadata": {
        "colab": {
          "base_uri": "https://localhost:8080/"
        },
        "id": "bzuG_Iqf2TaU",
        "outputId": "7cfcfbff-6321-45aa-8bf5-ab5f0f55868a"
      },
      "execution_count": null,
      "outputs": [
        {
          "output_type": "execute_result",
          "data": {
            "text/plain": [
              "array([0, 1, 2])"
            ]
          },
          "metadata": {},
          "execution_count": 84
        }
      ]
    },
    {
      "cell_type": "code",
      "source": [
        "lsc_multi_class=LeastSquareClassification()\n",
        "lsc_multi_class.fit(x_train,y_train_trans,reg_rate=0)\n",
        "# print(\"Weight vector\",lsc.w)\n",
        "visualize_model(x_train,y_train,lsc_multi_class)"
      ],
      "metadata": {
        "colab": {
          "base_uri": "https://localhost:8080/",
          "height": 515
        },
        "id": "GpXJRrYq2a4J",
        "outputId": "5b9ed6ea-4c29-416a-894d-47b7e545c680"
      },
      "execution_count": null,
      "outputs": [
        {
          "output_type": "display_data",
          "data": {
            "text/plain": [
              "<Figure size 576x576 with 1 Axes>"
            ],
            "image/png": "[encoded data removed]"
          },
          "metadata": {}
        }
      ]
    },
    {
      "cell_type": "code",
      "source": [
        "lsc_multi_class.w"
      ],
      "metadata": {
        "colab": {
          "base_uri": "https://localhost:8080/"
        },
        "id": "Z1GhnZpx2jSf",
        "outputId": "ffa8d2e7-f8ef-4571-dd28-14bf3a3a66e5"
      },
      "execution_count": null,
      "outputs": [
        {
          "output_type": "execute_result",
          "data": {
            "text/plain": [
              "array([[ 0.5484719 ,  0.28935151,  0.16217659],\n",
              "       [-0.1389778 , -0.00953424,  0.14851204],\n",
              "       [-0.12683606,  0.03019347,  0.09664259]])"
            ]
          },
          "metadata": {},
          "execution_count": 87
        }
      ]
    },
    {
      "cell_type": "markdown",
      "source": [
        "Instead of finding all values of precision and all from scratch let's import `classification_report` api from sklearn"
      ],
      "metadata": {
        "id": "HSJ7gR572xYP"
      }
    },
    {
      "cell_type": "code",
      "source": [
        "from sklearn.metrics import classification_report\n",
        "y_test_pred=lsc_multi_class.predict(x_test)\n",
        "print(classification_report(y_test,y_test_pred,zero_division=0))"
      ],
      "metadata": {
        "colab": {
          "base_uri": "https://localhost:8080/"
        },
        "id": "Hx_dTplq2tEs",
        "outputId": "3a8f8edc-b8c1-4c67-9ef7-36c8ae360d34"
      },
      "execution_count": null,
      "outputs": [
        {
          "output_type": "stream",
          "name": "stdout",
          "text": [
            "              precision    recall  f1-score   support\n",
            "\n",
            "           0       0.50      1.00      0.67         3\n",
            "           1       1.00      0.12      0.22         8\n",
            "           2       0.67      1.00      0.80         8\n",
            "\n",
            "    accuracy                           0.63        19\n",
            "   macro avg       0.72      0.71      0.56        19\n",
            "weighted avg       0.78      0.63      0.54        19\n",
            "\n"
          ]
        }
      ]
    },
    {
      "cell_type": "markdown",
      "source": [
        "##Polynomial least square classification"
      ],
      "metadata": {
        "id": "C3dJIMUd3Rrj"
      }
    },
    {
      "cell_type": "code",
      "source": [
        "from sklearn.datasets import make_circles\n",
        "x,y=make_circles()\n"
      ],
      "metadata": {
        "id": "YLIfG0L_3MYZ"
      },
      "execution_count": null,
      "outputs": []
    },
    {
      "cell_type": "code",
      "source": [
        "x_poly=polynomial_transform(x,degree=2)\n",
        "x_train,x_test,y_train,y_test=train_test_split(x_poly,y)"
      ],
      "metadata": {
        "id": "sJ3jdFyc3ilz"
      },
      "execution_count": null,
      "outputs": []
    },
    {
      "cell_type": "code",
      "source": [
        "print(\"Shape of feature matrix before transformation\",x.shape)\n",
        "print(\"Shape of feature matrix after polynomial transformation of degree 2:\",x_poly.shape)"
      ],
      "metadata": {
        "colab": {
          "base_uri": "https://localhost:8080/"
        },
        "id": "_UWoaFc53wjk",
        "outputId": "ed5efb9f-65ec-43fc-89f0-c90e6ebd6cbb"
      },
      "execution_count": null,
      "outputs": [
        {
          "output_type": "stream",
          "name": "stdout",
          "text": [
            "Shape of feature matrix before transformation (100, 2)\n",
            "Shape of feature matrix after polynomial transformation of degree 2: (100, 6)\n"
          ]
        }
      ]
    },
    {
      "cell_type": "code",
      "source": [
        "x[:5]"
      ],
      "metadata": {
        "colab": {
          "base_uri": "https://localhost:8080/"
        },
        "id": "Zk8gMVmC4BSJ",
        "outputId": "bdcdefd6-6f0d-431e-bff3-fecafa1ac504"
      },
      "execution_count": null,
      "outputs": [
        {
          "output_type": "execute_result",
          "data": {
            "text/plain": [
              "array([[-2.47213595e-01,  7.60845213e-01],\n",
              "       [ 9.29776486e-01, -3.68124553e-01],\n",
              "       [-6.27905195e-02, -9.98026728e-01],\n",
              "       [ 7.74866529e-01, -1.98951910e-01],\n",
              "       [-1.00000000e+00, -3.21624530e-16]])"
            ]
          },
          "metadata": {},
          "execution_count": 93
        }
      ]
    },
    {
      "cell_type": "code",
      "source": [
        "x_poly[:5]"
      ],
      "metadata": {
        "colab": {
          "base_uri": "https://localhost:8080/"
        },
        "id": "BTH312FO4Cap",
        "outputId": "e6899985-64d4-4ee8-cfe8-40e89c7e8e71"
      },
      "execution_count": null,
      "outputs": [
        {
          "output_type": "execute_result",
          "data": {
            "text/plain": [
              "array([[ 1.00000000e+00, -2.47213595e-01,  7.60845213e-01,\n",
              "         6.11145618e-02, -1.88091281e-01,  5.78885438e-01],\n",
              "       [ 1.00000000e+00,  9.29776486e-01, -3.68124553e-01,\n",
              "         8.64484314e-01, -3.42273553e-01,  1.35515686e-01],\n",
              "       [ 1.00000000e+00, -6.27905195e-02, -9.98026728e-01,\n",
              "         3.94264934e-03,  6.26666168e-02,  9.96057351e-01],\n",
              "       [ 1.00000000e+00,  7.74866529e-01, -1.98951910e-01,\n",
              "         6.00418138e-01, -1.54161176e-01,  3.95818624e-02],\n",
              "       [ 1.00000000e+00, -1.00000000e+00, -3.21624530e-16,\n",
              "         1.00000000e+00,  3.21624530e-16,  1.03442338e-31]])"
            ]
          },
          "metadata": {},
          "execution_count": 94
        }
      ]
    },
    {
      "cell_type": "code",
      "source": [
        "y_train_trans=LabelTransformer().encode(y_train)\n",
        "y_test_trans=LabelTransformer().encode(y_test)"
      ],
      "metadata": {
        "id": "re6MrBAN4H8b"
      },
      "execution_count": null,
      "outputs": []
    },
    {
      "cell_type": "code",
      "source": [
        "sns.set_style('white')\n",
        "f=plt.figure(figsize=(8,8))\n",
        "sns.set_context('notebook',font_scale=1.5,rc={\"lines.linewidth\":2.5})\n",
        "\n",
        "sns.scatterplot(data=x_train,x=x_train[:,1],y=x_train[:,2],hue=y_train)\n",
        "plt.xlabel(\"$x_1$\")\n",
        "plt.ylabel(\"$x_2$\")\n",
        "plt.show()"
      ],
      "metadata": {
        "colab": {
          "base_uri": "https://localhost:8080/",
          "height": 515
        },
        "id": "mE5tGub44UH0",
        "outputId": "40402601-cd14-4047-df0e-0d0f328614dc"
      },
      "execution_count": null,
      "outputs": [
        {
          "output_type": "display_data",
          "data": {
            "text/plain": [
              "<Figure size 576x576 with 1 Axes>"
            ],
            "image/png": "[encoded data removed]"
          },
          "metadata": {}
        }
      ]
    },
    {
      "cell_type": "code",
      "source": [
        "lsc_poly=LeastSquareClassification()\n",
        "lsc_poly.fit(x_train,y_train_trans,reg_rate=0)\n",
        "# print(\"Weight vector\",lsc.w)\n",
        "visualize_model(x_train,y_train,lsc_poly,degree=2)"
      ],
      "metadata": {
        "colab": {
          "base_uri": "https://localhost:8080/",
          "height": 515
        },
        "id": "SIHbrq8e4c_n",
        "outputId": "79163ead-51c6-462e-b415-afc2a7f3e4eb"
      },
      "execution_count": null,
      "outputs": [
        {
          "output_type": "display_data",
          "data": {
            "text/plain": [
              "<Figure size 576x576 with 1 Axes>"
            ],
            "image/png": "[encoded data removed]"
          },
          "metadata": {}
        }
      ]
    },
    {
      "cell_type": "code",
      "source": [
        "from sklearn.metrics import classification_report\n",
        "y_test_pred=lsc_poly.predict(x_test)\n",
        "print(classification_report(y_test,y_test_pred,zero_division=0))"
      ],
      "metadata": {
        "colab": {
          "base_uri": "https://localhost:8080/"
        },
        "id": "vdp8IOGY5Cgo",
        "outputId": "73be4908-d955-45cd-81d4-52957bccfebf"
      },
      "execution_count": null,
      "outputs": [
        {
          "output_type": "stream",
          "name": "stdout",
          "text": [
            "              precision    recall  f1-score   support\n",
            "\n",
            "           0       1.00      1.00      1.00        13\n",
            "           1       1.00      1.00      1.00        12\n",
            "\n",
            "    accuracy                           1.00        25\n",
            "   macro avg       1.00      1.00      1.00        25\n",
            "weighted avg       1.00      1.00      1.00        25\n",
            "\n"
          ]
        }
      ]
    },
    {
      "cell_type": "markdown",
      "source": [
        "##Perceptron\n",
        "\n",
        "##Summary of perceptron compponents:"
      ],
      "metadata": {
        "id": "nCW0ZsAeSj5s"
      }
    },
    {
      "cell_type": "markdown",
      "source": [
        "##Training Data\n",
        "* Feature matrix:$\\mathbf{X}_{n.(m+1)}$ includes a dummy feature $x_0$ that is set to 1\n",
        "\n",
        "* Label vector $y_{n.1}$\n",
        "\n",
        "Note that perceptron can solve only binary classification problems\n",
        "\n",
        "##Model\n",
        "\n",
        "&emsp;&emsp;&emsp;&emsp; $h_w:y=sign(w^T\\phi(x))$ <br>\n",
        "&emsp;&emsp;&emsp;&emsp;      $h_w:y=sign(z)$\n",
        "\n",
        "where \n",
        "* $w$ is a weight vector in $R^{m+1}$\n",
        "\n",
        "* &emsp;&emsp;&emsp;&emsp;$sign(z)$={$+1,if z>=0$}\n",
        "* &emsp;&emsp;&emsp;&emsp;$sign(z)$={$-1,otherwise(i.e.z<0)$}\n",
        "\n",
        "##Loss function\n",
        "\n",
        "&emsp;&emsp;&emsp;&emsp;$J(w)=\\sum_{i=1}^n e^{i}$<br>\n",
        "&emsp;&emsp;&emsp;&emsp;&emsp;&emsp;&emsp;$=\\sum_{i=1}^n max(-h_w(x^i)y^i,0)$\n",
        "\n",
        "\n",
        "##Optimization procedure(Perceptron update rule)\n",
        "\n",
        "1. Initialize $w^0=0$\n",
        "2. For each training example($x^i,y^i$):\n",
        "  * $ycap^i=sign(w^Tx^i)$ [Calculate the output value]\n",
        "  * $w^{(i+1)}:=w^{i}+\\alpha(y^i-ycap^i)\\phi(x^i)$ [Update the weights]\n",
        "\n",
        "\n",
        "##Evaluation metrics\n",
        "* Confusion matrix\n",
        "* Precision/Recall/Fl\n",
        "\n"
      ],
      "metadata": {
        "id": "G1ktEWjVSs9A"
      }
    },
    {
      "cell_type": "markdown",
      "source": [
        "##Implementation"
      ],
      "metadata": {
        "id": "i3fFYEiqZvCp"
      }
    },
    {
      "cell_type": "code",
      "source": [
        "#@title [import libraries]\n",
        "\n",
        "from IPython.display import display,Math,Latex\n",
        "\n",
        "np.random.seed(1234)\n"
      ],
      "metadata": {
        "cellView": "form",
        "id": "U6EwuHQSZ5MA"
      },
      "execution_count": null,
      "outputs": []
    },
    {
      "cell_type": "code",
      "source": [
        "def create_toy_data(factor=3):\n",
        "    x0 = np.random.normal(size=50).reshape(-1, 2) - factor\n",
        "    x1 = np.random.normal(size=50).reshape(-1, 2) + factor\n",
        "    return np.concatenate([x0, x1]), np.concatenate([np.zeros(25)-1, np.ones(25)]).astype(np.int64)"
      ],
      "metadata": {
        "id": "pZ-Sirln1uXl"
      },
      "execution_count": null,
      "outputs": []
    },
    {
      "cell_type": "code",
      "source": [
        "sns.set_context(context='notebook',font_scale=1.5,rc={\"lines.linewidth\":2.5})\n",
        "\n",
        "def visualize_model(X_train, labels, lsc, degree=1):\n",
        "    f = plt.figure(figsize=(8,8))\n",
        "\n",
        "    x1_min = np.min(x_train[:,1])\n",
        "    x1_max = np.max(x_train[:,1])\n",
        "    x2_min = np.min(x_train[:,2])\n",
        "    x2_max = np.max(x_train[:,2])\n",
        "    \n",
        "    x1_test, x2_test = np.meshgrid(np.linspace(x1_min, x1_max, 100), np.linspace(x2_min, x2_max, 100)) \n",
        "    x_test = np.array([x1_test, x2_test]).reshape(2,-1).T\n",
        "    x_test_poly = polynomial_transform(x_test, degree=degree)\n",
        "    y_test = lsc.predict(x_test_poly)\n",
        "    \n",
        "    sns.scatterplot(data=x_train, x=x_train[:,-2], y=x_train[:,-1], hue=labels)\n",
        "    plt.contourf(x1_test, x2_test, y_test.reshape(100,100), alpha=0.5, levels=np.linspace(0,1,3))\n",
        "    plt.gca().set_aspect('equal', adjustable='box')"
      ],
      "metadata": {
        "id": "FDpRILIx1wm4"
      },
      "execution_count": null,
      "outputs": []
    },
    {
      "cell_type": "code",
      "source": [
        "class Perceptron:\n",
        "  '''\n",
        "  Implements perceptron class\n",
        "\n",
        "  It uses the following class variable:\n",
        "  w:stores the final weight vector\n",
        "  w_all:stores all weight vector in training iterations\n",
        "  errors_all:stores all errors in training iterations. \n",
        "  '''\n",
        "\n",
        "  def __init__(self):\n",
        "    return\n",
        "\n",
        "  def predict(self,X):\n",
        "    '''Predicts labels for input feature matrix X.'''\n",
        "    z=X@self.w\n",
        "    return np.where(z>=0,1,-1)\n",
        "  \n",
        "  def loss(self,X,y):\n",
        "    '''\n",
        "    Calculate loss\n",
        "\n",
        "    Calculate loss due to current weight vector w on feature matrix X and label vector y.\n",
        "\n",
        "    Args:\n",
        "      X:Feature matrix\n",
        "      y:Label vector\n",
        "\n",
        "    Returns:\n",
        "      None\n",
        "    '''\n",
        "    return np.sum(np.maximum(-1*self.predict(X)*y,np.zeros(y.shape[0])))\n",
        "\n",
        "\n",
        "  def train(self,X,y,epochs=10,lr=0.001):\n",
        "    '''\n",
        "    Implements perceptron update rule.\n",
        "\n",
        "    Args:\n",
        "      X:feature matrix\n",
        "      y:label vector\n",
        "      epochs:Number of epochs\n",
        "      lr:learning rate\n",
        "    Returns:\n",
        "      None\n",
        "    '''\n",
        "    self.w=np.zeros(X.shape[1])\n",
        "    self.errors_all=[]\n",
        "    self.w_all=[]\n",
        "\n",
        "    for _ in range(epochs):\n",
        "      errors=0\n",
        "      for xi,target in zip(X,y):\n",
        "        self.w+=lr*(target-self.predict(xi))*xi\n",
        "        errors+=(max(-1*self.predict(xi)*target,0))\n",
        "      \n",
        "      self.errors_all.append(errors)\n",
        "      self.w_all.append(self.w)\n",
        "      print(\"w:\",perceptron_obj.w)\n",
        "      print(\"J(w):\",perceptron_obj.errors_all[-1])\n",
        "\n",
        "      #Note:Commented for loss visualization.Uncomment in actual implementation\n",
        "      # if self.loss(X,y)==0:\n",
        "      # break\n"
      ],
      "metadata": {
        "id": "TUPl59pg5O0h"
      },
      "execution_count": null,
      "outputs": []
    },
    {
      "cell_type": "code",
      "source": [
        "from sklearn.model_selection import train_test_split\n",
        "x,y=create_toy_data()\n",
        "x_poly=polynomial_transform(x,degree=1)\n",
        "x_train,x_test,y_train,y_test=train_test_split(x_poly,y)"
      ],
      "metadata": {
        "id": "5zXmOpnPbokn"
      },
      "execution_count": null,
      "outputs": []
    },
    {
      "cell_type": "code",
      "source": [
        "perceptron_obj=Perceptron()\n",
        "perceptron_obj.train(x_train,y_train,lr=1)\n",
        "visualize_model(x_train,y_train,perceptron_obj,degree=1)"
      ],
      "metadata": {
        "colab": {
          "base_uri": "https://localhost:8080/",
          "height": 761
        },
        "id": "HYnOk958oD2L",
        "outputId": "6304ac36-8e09-466d-8ac6-a32b36cf0828"
      },
      "execution_count": null,
      "outputs": [
        {
          "output_type": "stream",
          "name": "stdout",
          "text": [
            "w: [-2.          7.68129869  5.97862843]\n",
            "J(w): 0\n",
            "w: [-2.          7.68129869  5.97862843]\n",
            "J(w): 0\n",
            "w: [-2.          7.68129869  5.97862843]\n",
            "J(w): 0\n",
            "w: [-2.          7.68129869  5.97862843]\n",
            "J(w): 0\n",
            "w: [-2.          7.68129869  5.97862843]\n",
            "J(w): 0\n",
            "w: [-2.          7.68129869  5.97862843]\n",
            "J(w): 0\n",
            "w: [-2.          7.68129869  5.97862843]\n",
            "J(w): 0\n",
            "w: [-2.          7.68129869  5.97862843]\n",
            "J(w): 0\n",
            "w: [-2.          7.68129869  5.97862843]\n",
            "J(w): 0\n",
            "w: [-2.          7.68129869  5.97862843]\n",
            "J(w): 0\n"
          ]
        },
        {
          "output_type": "display_data",
          "data": {
            "text/plain": [
              "<Figure size 576x576 with 1 Axes>"
            ],
            "image/png": "[encoded data removed]"
          },
          "metadata": {}
        }
      ]
    },
    {
      "cell_type": "code",
      "source": [
        "perceptron_obj.errors_all"
      ],
      "metadata": {
        "colab": {
          "base_uri": "https://localhost:8080/"
        },
        "id": "jyJJOqJwoh1k",
        "outputId": "75fec5cc-ab23-4d0a-f65e-0e417781b6f5"
      },
      "execution_count": null,
      "outputs": [
        {
          "output_type": "execute_result",
          "data": {
            "text/plain": [
              "[0, 0, 0, 0, 0, 0, 0, 0, 0, 0]"
            ]
          },
          "metadata": {},
          "execution_count": 132
        }
      ]
    },
    {
      "cell_type": "code",
      "source": [
        "plt.plot(np.arange(len(perceptron_obj.errors_all)),perceptron_obj.errors_all,'b-')\n",
        "plt.xlabel('Iteration #')\n",
        "plt.ylabel('$J(\\mathbf{w})$')\n",
        "plt.title('Learning curve')"
      ],
      "metadata": {
        "colab": {
          "base_uri": "https://localhost:8080/",
          "height": 335
        },
        "id": "iqe6l9WOqcg3",
        "outputId": "34207001-a9be-46fc-820a-1da027b056aa"
      },
      "execution_count": null,
      "outputs": [
        {
          "output_type": "execute_result",
          "data": {
            "text/plain": [
              "Text(0.5, 1.0, 'Learning curve')"
            ]
          },
          "metadata": {},
          "execution_count": 133
        },
        {
          "output_type": "display_data",
          "data": {
            "text/plain": [
              "<Figure size 432x288 with 1 Axes>"
            ],
            "image/png": "[encoded data removed]"
          },
          "metadata": {}
        }
      ]
    },
    {
      "cell_type": "markdown",
      "source": [
        "##Linearly non-sepearable case"
      ],
      "metadata": {
        "id": "jURDF5qAq9rx"
      }
    },
    {
      "cell_type": "code",
      "source": [
        "x,y=create_toy_data(factor=0.5)\n",
        "x_poly=polynomial_transform(x,degree=1)\n",
        "x_train,x_test,y_train,y_test=train_test_split(x_poly,y)\n",
        "\n",
        "perceptron_obj=Perceptron()\n",
        "perceptron_obj.train(x_train,y_train,lr=1)"
      ],
      "metadata": {
        "colab": {
          "base_uri": "https://localhost:8080/"
        },
        "id": "86XOl-vRq3jg",
        "outputId": "d13b064c-a8cf-438a-f11c-632705f56aea"
      },
      "execution_count": null,
      "outputs": [
        {
          "output_type": "stream",
          "name": "stdout",
          "text": [
            "w: [-2.          2.54485624  2.14362076]\n",
            "J(w): 2\n",
            "w: [0.         4.73236168 0.33187163]\n",
            "J(w): 2\n",
            "w: [0.         4.10688596 0.45278821]\n",
            "J(w): 2\n",
            "w: [0.         3.48141025 0.57370479]\n",
            "J(w): 3\n",
            "w: [-2.          2.93482666  1.11477839]\n",
            "J(w): 4\n",
            "w: [-2.          2.95512553  1.00135562]\n",
            "J(w): 5\n",
            "w: [-2.          2.9754244   0.88793285]\n",
            "J(w): 5\n",
            "w: [-2.          2.99572326  0.77451008]\n",
            "J(w): 5\n",
            "w: [0.         4.65019535 0.49449155]\n",
            "J(w): 2\n",
            "w: [0.         4.02471963 0.61540812]\n",
            "J(w): 2\n"
          ]
        }
      ]
    },
    {
      "cell_type": "code",
      "source": [
        "p = Perceptron()\n",
        "p.train(x_train, y_train,epochs=100, lr=1)\n",
        "#In non-linear separable case, the classification doesn't converge, but oscillate.  Print loss to see.\n",
        "visualize_model(x_train, y_train, p, degree=1)"
      ],
      "metadata": {
        "colab": {
          "base_uri": "https://localhost:8080/",
          "height": 1000
        },
        "id": "WD3lcPOJrbun",
        "outputId": "098e7f6d-82c3-4653-c134-b997a076576a"
      },
      "execution_count": null,
      "outputs": [
        {
          "output_type": "stream",
          "name": "stdout",
          "text": [
            "w: [0.         4.02471963 0.61540812]\n",
            "J(w): 2\n",
            "w: [0.         4.02471963 0.61540812]\n",
            "J(w): 2\n",
            "w: [0.         4.02471963 0.61540812]\n",
            "J(w): 2\n",
            "w: [0.         4.02471963 0.61540812]\n",
            "J(w): 2\n",
            "w: [0.         4.02471963 0.61540812]\n",
            "J(w): 2\n",
            "w: [0.         4.02471963 0.61540812]\n",
            "J(w): 2\n",
            "w: [0.         4.02471963 0.61540812]\n",
            "J(w): 2\n",
            "w: [0.         4.02471963 0.61540812]\n",
            "J(w): 2\n",
            "w: [0.         4.02471963 0.61540812]\n",
            "J(w): 2\n",
            "w: [0.         4.02471963 0.61540812]\n",
            "J(w): 2\n",
            "w: [0.         4.02471963 0.61540812]\n",
            "J(w): 2\n",
            "w: [0.         4.02471963 0.61540812]\n",
            "J(w): 2\n",
            "w: [0.         4.02471963 0.61540812]\n",
            "J(w): 2\n",
            "w: [0.         4.02471963 0.61540812]\n",
            "J(w): 2\n",
            "w: [0.         4.02471963 0.61540812]\n",
            "J(w): 2\n",
            "w: [0.         4.02471963 0.61540812]\n",
            "J(w): 2\n",
            "w: [0.         4.02471963 0.61540812]\n",
            "J(w): 2\n",
            "w: [0.         4.02471963 0.61540812]\n",
            "J(w): 2\n",
            "w: [0.         4.02471963 0.61540812]\n",
            "J(w): 2\n",
            "w: [0.         4.02471963 0.61540812]\n",
            "J(w): 2\n",
            "w: [0.         4.02471963 0.61540812]\n",
            "J(w): 2\n",
            "w: [0.         4.02471963 0.61540812]\n",
            "J(w): 2\n",
            "w: [0.         4.02471963 0.61540812]\n",
            "J(w): 2\n",
            "w: [0.         4.02471963 0.61540812]\n",
            "J(w): 2\n",
            "w: [0.         4.02471963 0.61540812]\n",
            "J(w): 2\n",
            "w: [0.         4.02471963 0.61540812]\n",
            "J(w): 2\n",
            "w: [0.         4.02471963 0.61540812]\n",
            "J(w): 2\n",
            "w: [0.         4.02471963 0.61540812]\n",
            "J(w): 2\n",
            "w: [0.         4.02471963 0.61540812]\n",
            "J(w): 2\n",
            "w: [0.         4.02471963 0.61540812]\n",
            "J(w): 2\n",
            "w: [0.         4.02471963 0.61540812]\n",
            "J(w): 2\n",
            "w: [0.         4.02471963 0.61540812]\n",
            "J(w): 2\n",
            "w: [0.         4.02471963 0.61540812]\n",
            "J(w): 2\n",
            "w: [0.         4.02471963 0.61540812]\n",
            "J(w): 2\n",
            "w: [0.         4.02471963 0.61540812]\n",
            "J(w): 2\n",
            "w: [0.         4.02471963 0.61540812]\n",
            "J(w): 2\n",
            "w: [0.         4.02471963 0.61540812]\n",
            "J(w): 2\n",
            "w: [0.         4.02471963 0.61540812]\n",
            "J(w): 2\n",
            "w: [0.         4.02471963 0.61540812]\n",
            "J(w): 2\n",
            "w: [0.         4.02471963 0.61540812]\n",
            "J(w): 2\n",
            "w: [0.         4.02471963 0.61540812]\n",
            "J(w): 2\n",
            "w: [0.         4.02471963 0.61540812]\n",
            "J(w): 2\n",
            "w: [0.         4.02471963 0.61540812]\n",
            "J(w): 2\n",
            "w: [0.         4.02471963 0.61540812]\n",
            "J(w): 2\n",
            "w: [0.         4.02471963 0.61540812]\n",
            "J(w): 2\n",
            "w: [0.         4.02471963 0.61540812]\n",
            "J(w): 2\n",
            "w: [0.         4.02471963 0.61540812]\n",
            "J(w): 2\n",
            "w: [0.         4.02471963 0.61540812]\n",
            "J(w): 2\n",
            "w: [0.         4.02471963 0.61540812]\n",
            "J(w): 2\n",
            "w: [0.         4.02471963 0.61540812]\n",
            "J(w): 2\n",
            "w: [0.         4.02471963 0.61540812]\n",
            "J(w): 2\n",
            "w: [0.         4.02471963 0.61540812]\n",
            "J(w): 2\n",
            "w: [0.         4.02471963 0.61540812]\n",
            "J(w): 2\n",
            "w: [0.         4.02471963 0.61540812]\n",
            "J(w): 2\n",
            "w: [0.         4.02471963 0.61540812]\n",
            "J(w): 2\n",
            "w: [0.         4.02471963 0.61540812]\n",
            "J(w): 2\n",
            "w: [0.         4.02471963 0.61540812]\n",
            "J(w): 2\n",
            "w: [0.         4.02471963 0.61540812]\n",
            "J(w): 2\n",
            "w: [0.         4.02471963 0.61540812]\n",
            "J(w): 2\n",
            "w: [0.         4.02471963 0.61540812]\n",
            "J(w): 2\n",
            "w: [0.         4.02471963 0.61540812]\n",
            "J(w): 2\n",
            "w: [0.         4.02471963 0.61540812]\n",
            "J(w): 2\n",
            "w: [0.         4.02471963 0.61540812]\n",
            "J(w): 2\n",
            "w: [0.         4.02471963 0.61540812]\n",
            "J(w): 2\n",
            "w: [0.         4.02471963 0.61540812]\n",
            "J(w): 2\n",
            "w: [0.         4.02471963 0.61540812]\n",
            "J(w): 2\n",
            "w: [0.         4.02471963 0.61540812]\n",
            "J(w): 2\n",
            "w: [0.         4.02471963 0.61540812]\n",
            "J(w): 2\n",
            "w: [0.         4.02471963 0.61540812]\n",
            "J(w): 2\n",
            "w: [0.         4.02471963 0.61540812]\n",
            "J(w): 2\n",
            "w: [0.         4.02471963 0.61540812]\n",
            "J(w): 2\n",
            "w: [0.         4.02471963 0.61540812]\n",
            "J(w): 2\n",
            "w: [0.         4.02471963 0.61540812]\n",
            "J(w): 2\n",
            "w: [0.         4.02471963 0.61540812]\n",
            "J(w): 2\n",
            "w: [0.         4.02471963 0.61540812]\n",
            "J(w): 2\n",
            "w: [0.         4.02471963 0.61540812]\n",
            "J(w): 2\n",
            "w: [0.         4.02471963 0.61540812]\n",
            "J(w): 2\n",
            "w: [0.         4.02471963 0.61540812]\n",
            "J(w): 2\n",
            "w: [0.         4.02471963 0.61540812]\n",
            "J(w): 2\n",
            "w: [0.         4.02471963 0.61540812]\n",
            "J(w): 2\n",
            "w: [0.         4.02471963 0.61540812]\n",
            "J(w): 2\n",
            "w: [0.         4.02471963 0.61540812]\n",
            "J(w): 2\n",
            "w: [0.         4.02471963 0.61540812]\n",
            "J(w): 2\n",
            "w: [0.         4.02471963 0.61540812]\n",
            "J(w): 2\n",
            "w: [0.         4.02471963 0.61540812]\n",
            "J(w): 2\n",
            "w: [0.         4.02471963 0.61540812]\n",
            "J(w): 2\n",
            "w: [0.         4.02471963 0.61540812]\n",
            "J(w): 2\n",
            "w: [0.         4.02471963 0.61540812]\n",
            "J(w): 2\n",
            "w: [0.         4.02471963 0.61540812]\n",
            "J(w): 2\n",
            "w: [0.         4.02471963 0.61540812]\n",
            "J(w): 2\n",
            "w: [0.         4.02471963 0.61540812]\n",
            "J(w): 2\n",
            "w: [0.         4.02471963 0.61540812]\n",
            "J(w): 2\n",
            "w: [0.         4.02471963 0.61540812]\n",
            "J(w): 2\n",
            "w: [0.         4.02471963 0.61540812]\n",
            "J(w): 2\n",
            "w: [0.         4.02471963 0.61540812]\n",
            "J(w): 2\n",
            "w: [0.         4.02471963 0.61540812]\n",
            "J(w): 2\n",
            "w: [0.         4.02471963 0.61540812]\n",
            "J(w): 2\n",
            "w: [0.         4.02471963 0.61540812]\n",
            "J(w): 2\n",
            "w: [0.         4.02471963 0.61540812]\n",
            "J(w): 2\n",
            "w: [0.         4.02471963 0.61540812]\n",
            "J(w): 2\n"
          ]
        },
        {
          "output_type": "display_data",
          "data": {
            "text/plain": [
              "<Figure size 576x576 with 1 Axes>"
            ],
            "image/png": "[encoded data removed]"
          },
          "metadata": {}
        }
      ]
    },
    {
      "cell_type": "code",
      "source": [
        ""
      ],
      "metadata": {
        "id": "tbNOODrt2PB0"
      },
      "execution_count": null,
      "outputs": []
    }
  ]
}